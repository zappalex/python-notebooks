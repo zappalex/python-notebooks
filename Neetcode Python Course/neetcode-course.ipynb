{
 "cells": [
  {
   "cell_type": "markdown",
   "id": "c4111e4f",
   "metadata": {
    "jp-MarkdownHeadingCollapsed": true
   },
   "source": [
    "# Arrays"
   ]
  },
  {
   "cell_type": "markdown",
   "id": "b15a2c65",
   "metadata": {},
   "source": [
    "## Static Deletion"
   ]
  },
  {
   "cell_type": "code",
   "execution_count": 20,
   "id": "8282396e",
   "metadata": {},
   "outputs": [
    {
     "name": "stdout",
     "output_type": "stream",
     "text": [
      "[1, 2, -1]\n"
     ]
    }
   ],
   "source": [
    "# Deleting from end of array \n",
    "array = [1,2,3]\n",
    "if len(array) > 0: \n",
    "    # replace end value with some default\n",
    "    array[len(array)-1] = -1\n",
    "print(array)"
   ]
  },
  {
   "cell_type": "code",
   "execution_count": 21,
   "id": "07090e6c",
   "metadata": {},
   "outputs": [
    {
     "name": "stdout",
     "output_type": "stream",
     "text": [
      "[1, 2, 3, 4, 5, 6, 7]\n",
      "[1, 2, 4, 5, 6, 7, 7]\n"
     ]
    }
   ],
   "source": [
    "# Deleting from specified index\n",
    "array = [1,2,3,4,5,6,7]\n",
    "print(array)\n",
    "removal_index = 2\n",
    "\n",
    "for i in range(removal_index, len(array)-1): \n",
    "    array[i] = array[i+1]; \n",
    "print(array)\n"
   ]
  },
  {
   "cell_type": "markdown",
   "id": "74dca1fa",
   "metadata": {},
   "source": [
    "## Dynamic Deletion"
   ]
  },
  {
   "cell_type": "code",
   "execution_count": 1,
   "id": "398761e0",
   "metadata": {},
   "outputs": [
    {
     "name": "stdout",
     "output_type": "stream",
     "text": [
      "[1, 2, 3, 4, 5, 6, 7]\n",
      "7\n",
      "[1, 2, 3, 4, 5, 6]\n",
      "[1, 3, 4, 5, 6]\n",
      "[1, 5, 6]\n"
     ]
    }
   ],
   "source": [
    "array = [1,2,3,4,5,6,7]\n",
    "print(array)\n",
    "\n",
    "# Alternate Deletion from end \n",
    "value = array.pop()\n",
    "print(value)\n",
    "print(array)\n",
    "\n",
    "# Alternate deletion at index \n",
    "del array[1]\n",
    "print(array)\n",
    "\n",
    "# \n",
    "del array[1:3]\n",
    "print(array)"
   ]
  },
  {
   "cell_type": "markdown",
   "id": "5e459778",
   "metadata": {},
   "source": [
    "## Static Insertion"
   ]
  },
  {
   "cell_type": "code",
   "execution_count": 18,
   "id": "d010dfdb",
   "metadata": {},
   "outputs": [
    {
     "name": "stdout",
     "output_type": "stream",
     "text": [
      "[1, 2, 3, 4, 5, 6, -1]\n",
      "[1, 2, 8, 3, 4, 5, 6]\n"
     ]
    }
   ],
   "source": [
    "# Adding at a specified index (last index empty)\n",
    "array = [1,2,3,4,5,6,-1]\n",
    "print(array)\n",
    "add_index = 2\n",
    "add_number = 8\n",
    "\n",
    "# moving backwards here\n",
    "for index in range(len(array)-1, add_index, -1): \n",
    "    array[index] = array[index - 1]\n",
    "array[add_index] = add_number\n",
    "print(array)\n"
   ]
  },
  {
   "cell_type": "markdown",
   "id": "be56cba7",
   "metadata": {},
   "source": [
    "## Dynamic Insertion\n"
   ]
  },
  {
   "cell_type": "code",
   "execution_count": 26,
   "id": "c30b8fb4",
   "metadata": {},
   "outputs": [
    {
     "name": "stdout",
     "output_type": "stream",
     "text": [
      "[1, 2, 3, 4, 5, 6, 8]\n",
      "[1, 2, 9, 3, 4, 5, 6, 8]\n"
     ]
    }
   ],
   "source": [
    "array = [1,2,3,4,5,6]\n",
    "\n",
    "# Insertion at end\n",
    "array.append(8)\n",
    "print(array)\n",
    "\n",
    "# Insertion at index \n",
    "array.insert(2, 9)\n",
    "print(array)"
   ]
  },
  {
   "cell_type": "code",
   "execution_count": 3,
   "id": "1ef8cac6",
   "metadata": {},
   "outputs": [
    {
     "name": "stdout",
     "output_type": "stream",
     "text": [
      "{1, 2, 4, 5, 8}\n"
     ]
    }
   ],
   "source": [
    "# casting array to set will remove dupes\n",
    "\n",
    "array = [1,2,2,4,5,8,8]\n",
    "new_set = set(array)\n",
    "print(new_set)"
   ]
  },
  {
   "cell_type": "markdown",
   "id": "2fa58505",
   "metadata": {},
   "source": [
    "## Looping + Extra "
   ]
  },
  {
   "cell_type": "code",
   "execution_count": null,
   "id": "26e7aba0",
   "metadata": {},
   "outputs": [],
   "source": [
    "# Swapping \n",
    "\n",
    "# Absolute Value \n"
   ]
  },
  {
   "cell_type": "markdown",
   "id": "0f1530c3-9a3e-4b42-8b24-7fa57ab8985a",
   "metadata": {},
   "source": [
    "# Linked Lists"
   ]
  },
  {
   "cell_type": "code",
   "execution_count": null,
   "id": "a881067c-ae1e-4ba9-b2ce-64ee98cd6cb3",
   "metadata": {},
   "outputs": [],
   "source": [
    "class MyLinkedList(object):\n",
    "\n",
    "    def __init__(self):\n",
    "        self.head = None\n",
    "        self.tail = None\n",
    "        self.length = 0\n",
    "\n",
    "    def get(self, index):\n",
    "        \"\"\"\n",
    "        :type index: int\n",
    "        :rtype: int\n",
    "        \"\"\"\n",
    "        if index < self.length: \n",
    "            return self.getNodeAtIndex(index).val\n",
    "        else: \n",
    "          return -1\n",
    "        \n",
    "    def addAtHead(self, val):\n",
    "        \"\"\"\n",
    "        :type val: int\n",
    "        :rtype: None\n",
    "        \"\"\"\n",
    "        node = ListNode(val)\n",
    "        if self.head == None: \n",
    "            self.head = node\n",
    "            self.tail = node \n",
    "        else: \n",
    "            node.next = self.head\n",
    "            self.head.prev = node\n",
    "            self.head = node\n",
    "            self.length += 1\n",
    "\n",
    "    def addAtTail(self, val):\n",
    "        \"\"\"\n",
    "        :type val: int\n",
    "        :rtype: None\n",
    "        \"\"\"\n",
    "        node = ListNode(val)\n",
    "        if self.tail == None: \n",
    "            self.head = node\n",
    "            self.tail = node \n",
    "        else: \n",
    "            self.tail.next = node \n",
    "            node.prev = self.tail \n",
    "            self.tail = node\n",
    "            self.length += 1\n",
    "\n",
    "    def addAtIndex(self, index, val):\n",
    "        \"\"\"\n",
    "        :type index: int\n",
    "        :type val: int\n",
    "        :rtype: None\n",
    "        \"\"\"\n",
    "\n",
    "        if index < self.length:\n",
    "            targetNode = self.getNodeAtIndex(index)\n",
    "            self.insertNodeAtIndex(targetNode, val)\n",
    "        elif index == self.length: \n",
    "            self.addAtTail(val)\n",
    "        else: \n",
    "            # no insertion \n",
    "            pass\n",
    "\n",
    "    def deleteAtIndex(self, index):\n",
    "        \"\"\"\n",
    "        :type index: int\n",
    "        :rtype: None\n",
    "        \"\"\"\n",
    "\n",
    "    def getNodeAtIndex(self, index): \n",
    "        targetNode = self.head\n",
    "        for idx in range(index): \n",
    "            targetNode = targetNode.next\n",
    "            print(idx)\n",
    "        return targetNode \n",
    "    \n",
    "    def insertNodeAtIndex(self, targetNode, val): \n",
    "        node = ListNode(val)\n",
    "        node.prev = targetNode.prev\n",
    "        node.next = targetNode\n",
    "        targetNode.prev = node\n",
    "        self.length += 1\n",
    "\n",
    "class ListNode(object):\n",
    "    def __init__(self, val): \n",
    "        self.val = val\n",
    "        self.next = None\n",
    "        self.prev = None    \n",
    "\n",
    "\n",
    "# Your MyLinkedList object will be instantiated and called as such:\n",
    "# obj = MyLinkedList()\n",
    "# param_1 = obj.get(index)\n",
    "# obj.addAtHead(val)\n",
    "# obj.addAtTail(val)\n",
    "# obj.addAtIndex(index,val)\n",
    "# obj.deleteAtIndex(index)"
   ]
  }
 ],
 "metadata": {
  "kernelspec": {
   "display_name": "Python 3 (ipykernel)",
   "language": "python",
   "name": "python3"
  },
  "language_info": {
   "codemirror_mode": {
    "name": "ipython",
    "version": 3
   },
   "file_extension": ".py",
   "mimetype": "text/x-python",
   "name": "python",
   "nbconvert_exporter": "python",
   "pygments_lexer": "ipython3",
   "version": "3.12.0"
  }
 },
 "nbformat": 4,
 "nbformat_minor": 5
}
