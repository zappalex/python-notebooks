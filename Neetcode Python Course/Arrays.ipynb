{
 "cells": [
  {
   "cell_type": "markdown",
   "id": "c4111e4f",
   "metadata": {},
   "source": [
    "# Arrays"
   ]
  },
  {
   "cell_type": "markdown",
   "id": "b15a2c65",
   "metadata": {},
   "source": [
    "## Static Deletion"
   ]
  },
  {
   "cell_type": "code",
   "execution_count": 20,
   "id": "8282396e",
   "metadata": {},
   "outputs": [
    {
     "name": "stdout",
     "output_type": "stream",
     "text": [
      "[1, 2, -1]\n"
     ]
    }
   ],
   "source": [
    "# Deleting from end of array \n",
    "array = [1,2,3]\n",
    "if len(array) > 0: \n",
    "    # replace end value with some default\n",
    "    array[len(array)-1] = -1\n",
    "print(array)"
   ]
  },
  {
   "cell_type": "code",
   "execution_count": 21,
   "id": "07090e6c",
   "metadata": {},
   "outputs": [
    {
     "name": "stdout",
     "output_type": "stream",
     "text": [
      "[1, 2, 3, 4, 5, 6, 7]\n",
      "[1, 2, 4, 5, 6, 7, 7]\n"
     ]
    }
   ],
   "source": [
    "# Deleting from specified index\n",
    "array = [1,2,3,4,5,6,7]\n",
    "print(array)\n",
    "removal_index = 2\n",
    "\n",
    "for i in range(removal_index, len(array)-1): \n",
    "    array[i] = array[i+1]; \n",
    "print(array)\n"
   ]
  },
  {
   "cell_type": "markdown",
   "id": "74dca1fa",
   "metadata": {},
   "source": [
    "## Dynamic Deletion"
   ]
  },
  {
   "cell_type": "code",
   "execution_count": 1,
   "id": "398761e0",
   "metadata": {},
   "outputs": [
    {
     "name": "stdout",
     "output_type": "stream",
     "text": [
      "[1, 2, 3, 4, 5, 6, 7]\n",
      "7\n",
      "[1, 2, 3, 4, 5, 6]\n",
      "[1, 3, 4, 5, 6]\n",
      "[1, 5, 6]\n"
     ]
    }
   ],
   "source": [
    "array = [1,2,3,4,5,6,7]\n",
    "print(array)\n",
    "\n",
    "# Alternate Deletion from end \n",
    "value = array.pop()\n",
    "print(value)\n",
    "print(array)\n",
    "\n",
    "# Alternate deletion at index \n",
    "del array[1]\n",
    "print(array)\n",
    "\n",
    "# \n",
    "del array[1:3]\n",
    "print(array)"
   ]
  },
  {
   "cell_type": "markdown",
   "id": "5e459778",
   "metadata": {},
   "source": [
    "## Static Insertion"
   ]
  },
  {
   "cell_type": "code",
   "execution_count": 18,
   "id": "d010dfdb",
   "metadata": {},
   "outputs": [
    {
     "name": "stdout",
     "output_type": "stream",
     "text": [
      "[1, 2, 3, 4, 5, 6, -1]\n",
      "[1, 2, 8, 3, 4, 5, 6]\n"
     ]
    }
   ],
   "source": [
    "# Adding at a specified index (last index empty)\n",
    "array = [1,2,3,4,5,6,-1]\n",
    "print(array)\n",
    "add_index = 2\n",
    "add_number = 8\n",
    "\n",
    "# moving backwards here\n",
    "for index in range(len(array)-1, add_index, -1): \n",
    "    array[index] = array[index - 1]\n",
    "array[add_index] = add_number\n",
    "print(array)\n"
   ]
  },
  {
   "cell_type": "markdown",
   "id": "be56cba7",
   "metadata": {},
   "source": [
    "## Dynamic Insertion\n"
   ]
  },
  {
   "cell_type": "code",
   "execution_count": 26,
   "id": "c30b8fb4",
   "metadata": {},
   "outputs": [
    {
     "name": "stdout",
     "output_type": "stream",
     "text": [
      "[1, 2, 3, 4, 5, 6, 8]\n",
      "[1, 2, 9, 3, 4, 5, 6, 8]\n"
     ]
    }
   ],
   "source": [
    "array = [1,2,3,4,5,6]\n",
    "\n",
    "# Insertion at end\n",
    "array.append(8)\n",
    "print(array)\n",
    "\n",
    "# Insertion at index \n",
    "array.insert(2, 9)\n",
    "print(array)"
   ]
  },
  {
   "cell_type": "code",
   "execution_count": 3,
   "id": "1ef8cac6",
   "metadata": {},
   "outputs": [
    {
     "name": "stdout",
     "output_type": "stream",
     "text": [
      "{1, 2, 4, 5, 8}\n"
     ]
    }
   ],
   "source": [
    "# casting array to set will remove dupes\n",
    "\n",
    "array = [1,2,2,4,5,8,8]\n",
    "new_set = set(array)\n",
    "print(new_set)"
   ]
  },
  {
   "cell_type": "code",
   "execution_count": null,
   "id": "26e7aba0",
   "metadata": {},
   "outputs": [],
   "source": [
    "# Swapping \n",
    "\n",
    "# Absolute Value \n"
   ]
  }
 ],
 "metadata": {
  "kernelspec": {
   "display_name": "Python 3 (ipykernel)",
   "language": "python",
   "name": "python3"
  },
  "language_info": {
   "codemirror_mode": {
    "name": "ipython",
    "version": 3
   },
   "file_extension": ".py",
   "mimetype": "text/x-python",
   "name": "python",
   "nbconvert_exporter": "python",
   "pygments_lexer": "ipython3",
   "version": "3.11.5"
  }
 },
 "nbformat": 4,
 "nbformat_minor": 5
}
