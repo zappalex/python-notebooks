{
 "cells": [
  {
   "cell_type": "markdown",
   "id": "0ad5e9c3",
   "metadata": {},
   "source": [
    "### Typecasting"
   ]
  },
  {
   "cell_type": "code",
   "execution_count": 2,
   "id": "50c9c577",
   "metadata": {},
   "outputs": [
    {
     "name": "stdout",
     "output_type": "stream",
     "text": [
      "Enter your height in cm:456\n",
      "Your height in feet: 14.960629921259843\n"
     ]
    }
   ],
   "source": [
    "# we must cast our input numbers if we are to operate on them\n",
    "\n",
    "height_cm = input('Enter your height in cm: ')\n",
    "float_height_cm = float(height_cm)\n",
    "print('Your height in feet:', float_height_cm/30.48) \n"
   ]
  },
  {
   "cell_type": "code",
   "execution_count": 3,
   "id": "0053b95c",
   "metadata": {},
   "outputs": [
    {
     "name": "stdout",
     "output_type": "stream",
     "text": [
      "Enter your height in cm: 456\n",
      "Your height in feet: 14.960629921259843\n"
     ]
    }
   ],
   "source": [
    "# we can also do this in one line: \n",
    "\n",
    "height_cm = float(input(\"Enter your height in cm: \"))\n",
    "print('Your height in feet:', float_height_cm/30.48) \n"
   ]
  },
  {
   "cell_type": "code",
   "execution_count": 4,
   "id": "d9d81ae2",
   "metadata": {},
   "outputs": [
    {
     "name": "stdout",
     "output_type": "stream",
     "text": [
      "Enter the temp in C: 45\n",
      "45 degrees C equals 113.0 degrees F\n"
     ]
    }
   ],
   "source": [
    "# convert int (or otherwise) to string \n",
    "\n",
    "temp_c = input('Enter the temp in C: ')\n",
    "temp_f = float(temp_c) * 1.8 + 32\n",
    "temp_statement = str(temp_c) + ' degrees C equals ' + str(temp_f) + ' degrees F'\n",
    "print(temp_statement)\n"
   ]
  },
  {
   "cell_type": "markdown",
   "id": "98e0a1aa",
   "metadata": {},
   "source": [
    "### Operators Cont. "
   ]
  },
  {
   "cell_type": "code",
   "execution_count": 8,
   "id": "ee9ecafd",
   "metadata": {},
   "outputs": [
    {
     "name": "stdout",
     "output_type": "stream",
     "text": [
      "14\n",
      "12\n",
      "-12\n",
      "256\n"
     ]
    }
   ],
   "source": [
    "# Binary operators require two operands: \n",
    "print(5 + 9)\n",
    "\n",
    "# Unary operators require just one operand. \n",
    "print(+12)\n",
    "print(-12)\n",
    "\n",
    "# ORDER OF OPERATORS (pemdas)\n",
    "# 1. ()\n",
    "# 2. ** \n",
    "# 3. * / // %\n",
    "# 4. + - \n",
    "\n",
    "# Note: when calculating with Floats, numbers are approximate, but not exact. \n",
    "\n",
    "# Right Sided Binding: Multiple exponents will be evaluated R to L. (All other operators are left-sided)\n",
    "print(2**2**3)\n"
   ]
  },
  {
   "cell_type": "markdown",
   "id": "ce0a3d35",
   "metadata": {},
   "source": [
    "### More Print and Strings "
   ]
  },
  {
   "cell_type": "code",
   "execution_count": 9,
   "id": "d9833611",
   "metadata": {},
   "outputs": [
    {
     "name": "stdout",
     "output_type": "stream",
     "text": [
      "5\n"
     ]
    }
   ],
   "source": [
    "# return length of string \n",
    "\n",
    "length = len('Hello')\n",
    "print(length)\n"
   ]
  },
  {
   "cell_type": "code",
   "execution_count": 10,
   "id": "0e796973",
   "metadata": {},
   "outputs": [
    {
     "name": "stdout",
     "output_type": "stream",
     "text": [
      "Hello World.Python\n"
     ]
    }
   ],
   "source": [
    "# print end argument: print() takes an end argument that is defaulted to \\n. \n",
    "\n",
    "print(\"Hello World\", end=\".\")\n",
    "print(\"Python\")\n"
   ]
  },
  {
   "cell_type": "code",
   "execution_count": 12,
   "id": "cd2bc215",
   "metadata": {},
   "outputs": [
    {
     "name": "stdout",
     "output_type": "stream",
     "text": [
      "First Name John Doe\n",
      "First Name-John-Doe\n"
     ]
    }
   ],
   "source": [
    "# print sep argument: specifies separator between values, defaulted to a space. \n",
    "\n",
    "print(\"First Name\",\"John\",\"Doe\")\n",
    "print(\"First Name\",\"John\",\"Doe\", sep='-')\n"
   ]
  }
 ],
 "metadata": {
  "kernelspec": {
   "display_name": "Python 3 (ipykernel)",
   "language": "python",
   "name": "python3"
  },
  "language_info": {
   "codemirror_mode": {
    "name": "ipython",
    "version": 3
   },
   "file_extension": ".py",
   "mimetype": "text/x-python",
   "name": "python",
   "nbconvert_exporter": "python",
   "pygments_lexer": "ipython3",
   "version": "3.11.5"
  }
 },
 "nbformat": 4,
 "nbformat_minor": 5
}
