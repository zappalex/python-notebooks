{
 "cells": [
  {
   "cell_type": "markdown",
   "id": "0bad5abc",
   "metadata": {},
   "source": [
    "### Naming Conventions \n",
    "- can start with underscore, lowercase, uppercase ( uppercase and lowercase are considered differnt variables )\n",
    "- Cannot start with numbers. \n",
    "- Keywords -> from / global "
   ]
  },
  {
   "cell_type": "code",
   "execution_count": null,
   "id": "aac76bb7",
   "metadata": {},
   "outputs": [],
   "source": [
    "greeting = 'Hello Friend!'\n",
    "print(greeting)\n",
    "greeting = 'Hello Everyone!'\n",
    "print(greeting)"
   ]
  },
  {
   "cell_type": "code",
   "execution_count": null,
   "id": "c176d2c1",
   "metadata": {},
   "outputs": [],
   "source": [
    "# concatenate strings with + operator. No default spacing\n",
    "text = 'python' + 'is fun'\n",
    "print(text)"
   ]
  },
  {
   "cell_type": "markdown",
   "id": "35b53f32",
   "metadata": {},
   "source": [
    "### Basic Data Types "
   ]
  },
  {
   "cell_type": "code",
   "execution_count": 9,
   "id": "21e0b563",
   "metadata": {},
   "outputs": [
    {
     "name": "stdout",
     "output_type": "stream",
     "text": [
      "False\n"
     ]
    }
   ],
   "source": [
    "# String \n",
    "age = '35'\n",
    "\n",
    "# Int \n",
    "age = 35\n",
    "\n",
    "# Float \n",
    "speed1 = 4.5\n",
    "speed2 = 4.0\n",
    "speed3 = 4. \n",
    "\n",
    "# Boolean (must be uppercase) True = 1, False = 0\n",
    "am_i_ugly = False \n"
   ]
  },
  {
   "cell_type": "markdown",
   "id": "5c83f51e",
   "metadata": {},
   "source": [
    "### Numberical Types "
   ]
  },
  {
   "cell_type": "code",
   "execution_count": 10,
   "id": "7b2c5cc9",
   "metadata": {},
   "outputs": [
    {
     "name": "stdout",
     "output_type": "stream",
     "text": [
      "120003000\n"
     ]
    }
   ],
   "source": [
    "# underscores can be used in numbers for readability\n",
    "big_num = 12_000_3000\n",
    "print(big_num)"
   ]
  },
  {
   "cell_type": "code",
   "execution_count": 13,
   "id": "891246ca",
   "metadata": {},
   "outputs": [
    {
     "name": "stdout",
     "output_type": "stream",
     "text": [
      "30000.0\n",
      "3e-14\n"
     ]
    }
   ],
   "source": [
    "# scientific notation \n",
    "big_num = 3e4\n",
    "print(big_num)\n",
    "\n",
    "# big or small enough numbers will print in scientific notation as well\n",
    "print(0.00000000000003)"
   ]
  },
  {
   "cell_type": "markdown",
   "id": "ccb45eff",
   "metadata": {},
   "source": [
    "### Operators"
   ]
  },
  {
   "cell_type": "code",
   "execution_count": 14,
   "id": "f9d428c9",
   "metadata": {},
   "outputs": [
    {
     "name": "stdout",
     "output_type": "stream",
     "text": [
      "2+3= 5\n",
      "2-3= -1\n",
      "3*5= 15\n",
      "\n",
      "6/2= 3.0\n",
      "7/2= 3.5\n",
      "\n",
      "6/2= 3\n",
      "7/2= 3\n",
      "\n",
      "6/2= 0\n",
      "7/2= 1\n",
      "\n",
      "2/6= 2\n",
      "\n",
      "2^3= 8\n",
      "\n",
      "2-3= -1.0\n",
      "3*5= 15.0\n"
     ]
    }
   ],
   "source": [
    "print('2+3=',2+3)\n",
    "print('2-3=',2-3)\n",
    "print('3*5=',3*5)\n",
    "print()\n",
    "\n",
    "# standard division -> always results in float\n",
    "print('6/2=',6/2)\n",
    "print('7/2=',7/2)\n",
    "print()\n",
    "\n",
    "# integer division -> always results in integer, rounds down \n",
    "print('6/2=',6//2)\n",
    "print('7/2=',7//2)\n",
    "print()\n",
    "\n",
    "# modulus division -> returns remainder of division. \n",
    "print('6/2=',6%2)\n",
    "print('7/2=',7%2)\n",
    "print()\n",
    "\n",
    "# modulus division with smaller second number leaves original \n",
    "print('2/6=', 2%6)\n",
    "print()\n",
    "\n",
    "# dividing by zero will always result in an error\n",
    "#print('6/0=',6/0)\n",
    "\n",
    "# power operator \n",
    "print('2^3=',2**3)\n",
    "print()\n",
    "\n",
    "# mixing in floats will result in a float result, even with integer division\n",
    "print('2-3=',2-3.0)\n",
    "print('3*5=',3*5.0)\n"
   ]
  },
  {
   "cell_type": "markdown",
   "id": "689978d3",
   "metadata": {},
   "source": [
    "### Reassigning Values / Other Nonsense "
   ]
  },
  {
   "cell_type": "code",
   "execution_count": 18,
   "id": "191250d6",
   "metadata": {},
   "outputs": [
    {
     "name": "stdout",
     "output_type": "stream",
     "text": [
      "6.25\n",
      "dogdogdog\n"
     ]
    }
   ],
   "source": [
    "# we have at our disposal +=, -=, *=, /=, and %=\n",
    "age = 25\n",
    "age /= 4\n",
    "print(age)\n",
    "\n",
    "# for some reason python will also let us multiply text \n",
    "text = 'dog'*3\n",
    "print(text)"
   ]
  },
  {
   "cell_type": "markdown",
   "id": "945d3ea9",
   "metadata": {},
   "source": [
    "### Input Function"
   ]
  },
  {
   "cell_type": "code",
   "execution_count": null,
   "id": "2981b96b",
   "metadata": {
    "scrolled": true
   },
   "outputs": [
    {
     "name": "stdout",
     "output_type": "stream",
     "text": [
      "What is your name?\n"
     ]
    }
   ],
   "source": [
    "# asks user for a value \n",
    "print('What is your name?')\n",
    "user_name = input()\n",
    "print('Hello,',user_name)\n",
    "\n",
    "# we can also simply include the prompt in the input function itself \n",
    "user_name = input('What\\'s yo name, pig? ')\n",
    "\n",
    "# Note: the input function will always return a string, even if it's an int. "
   ]
  },
  {
   "cell_type": "markdown",
   "id": "d2b94d60",
   "metadata": {},
   "source": [
    "### Theory \n",
    "Source code / high level languages such as Python get translated into Machine Code. \n",
    "\n",
    "This translation takes place in one of two ways: \n",
    "- Compilation \n",
    "    - compile source code only once\n",
    "    - creates executable that anyone can run\n",
    "- Interpretation \n",
    "    - happens on the fly \n",
    "    - interpret source code each time you run the program\n",
    "    - everyone needs the interpreter to run \n",
    "    \n",
    "Python is an Interpreted language, also known as a Scripting Language. \n",
    "- reads code from top to bottom\n",
    "- throws errors based on: \n",
    "    - lexis: keywords, variable naming conventions \n",
    "    - syntax: rules of constructing code - missing parens, etc. \n",
    "    - semantics: passing too many arguments for a given function, etc. \n"
   ]
  },
  {
   "cell_type": "code",
   "execution_count": 2,
   "id": "cca202a7",
   "metadata": {},
   "outputs": [
    {
     "ename": "IndentationError",
     "evalue": "unexpected indent (1049951928.py, line 6)",
     "output_type": "error",
     "traceback": [
      "\u001b[0;36m  Cell \u001b[0;32mIn[2], line 6\u001b[0;36m\u001b[0m\n\u001b[0;31m    for i in range(len(s), 0, -1):\u001b[0m\n\u001b[0m    ^\u001b[0m\n\u001b[0;31mIndentationError\u001b[0m\u001b[0;31m:\u001b[0m unexpected indent\n"
     ]
    }
   ],
   "source": [
    "s = \"()[]{}\"   \n",
    "    \n",
    "stack = []\n",
    "peek = ''\n",
    "\n",
    "for i in range(len(s), 0, -1): \n",
    "    if len(stack) > 0:\n",
    "        peek = stack[-1]\n",
    "        if i == '{' and peek == '}' or i == '(' and peek == ')' or i == '[' and peek == ']': \n",
    "            stack.pop()\n",
    "                else: stack.append(i)\n",
    "            else: \n",
    "                stack.append(i)\n",
    "        print(stack)\n",
    "\n",
    "        \n",
    "        if len(stack) > 0: \n",
    "            return False \n",
    "        else: \n",
    "            return True"
   ]
  },
  {
   "cell_type": "code",
   "execution_count": null,
   "id": "48376865",
   "metadata": {},
   "outputs": [],
   "source": []
  }
 ],
 "metadata": {
  "kernelspec": {
   "display_name": "Python 3 (ipykernel)",
   "language": "python",
   "name": "python3"
  },
  "language_info": {
   "codemirror_mode": {
    "name": "ipython",
    "version": 3
   },
   "file_extension": ".py",
   "mimetype": "text/x-python",
   "name": "python",
   "nbconvert_exporter": "python",
   "pygments_lexer": "ipython3",
   "version": "3.11.5"
  }
 },
 "nbformat": 4,
 "nbformat_minor": 5
}
