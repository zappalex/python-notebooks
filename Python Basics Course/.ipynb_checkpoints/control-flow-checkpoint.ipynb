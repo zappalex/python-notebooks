{
 "cells": [
  {
   "cell_type": "markdown",
   "id": "bff578d5",
   "metadata": {},
   "source": [
    "### If Statement \n",
    "- Executable code in statement must be tabbed or spaced. The recommendation is a tab (4 spaces) \n",
    "- This code is referred to as a block, and can contain multiple lines, given they are tabbed in the correct manner\n",
    "- If + Else must match in tabbing as well"
   ]
  },
  {
   "cell_type": "code",
   "execution_count": 3,
   "id": "99de9281",
   "metadata": {},
   "outputs": [
    {
     "name": "stdout",
     "output_type": "stream",
     "text": [
      "What is your age?45\n",
      "You are over 30\n",
      "Another statement here\n"
     ]
    }
   ],
   "source": [
    "# If Statement with block \n",
    "user_age = int(input(\"What is your age? \"))\n",
    "if user_age > 30: \n",
    "    print(\"You are over 30\")\n",
    "    print(\"Another statement here\")"
   ]
  },
  {
   "cell_type": "code",
   "execution_count": 5,
   "id": "9c1abd8c",
   "metadata": {},
   "outputs": [
    {
     "name": "stdout",
     "output_type": "stream",
     "text": [
      "What is your age? 23\n",
      "Another statement here\n"
     ]
    }
   ],
   "source": [
    "# If Statement with mis-tabbed block (wont work) \n",
    "user_age = int(input(\"What is your age? \"))\n",
    "if user_age > 30: \n",
    "    print(\"You are over 30\")\n",
    "print(\"Another statement here\")"
   ]
  },
  {
   "cell_type": "code",
   "execution_count": null,
   "id": "80dd33ae",
   "metadata": {},
   "outputs": [],
   "source": [
    "# If Else Statement \n",
    "user_age = int(input(\"What is your age? \"))\n",
    "if user_age > 30: \n",
    "    print(\"You are over 30\")\n",
    "    print(\"Sorry, you do not qualify\")\n",
    "else: \n",
    "    print(\"You are 30 or younger\")\n",
    "    print(\"Congrats, you qualify\")"
   ]
  },
  {
   "cell_type": "code",
   "execution_count": 9,
   "id": "01e8de4e",
   "metadata": {},
   "outputs": [
    {
     "name": "stdout",
     "output_type": "stream",
     "text": [
      "What is your age? 32\n",
      "You are early thirties\n"
     ]
    }
   ],
   "source": [
    "# Else If Statement\n",
    "user_age = int(input(\"What is your age? \"))\n",
    "if user_age > 35: \n",
    "    print(\"You are getting up there\")\n",
    "elif user_age > 30 & user_age < 35: \n",
    "    print(\"You are early thirties\")\n",
    "else: \n",
    "    print(\"You are 30 or younger\")"
   ]
  },
  {
   "cell_type": "markdown",
   "id": "7d4426ba",
   "metadata": {},
   "source": [
    "### Logical Operators "
   ]
  },
  {
   "cell_type": "code",
   "execution_count": 11,
   "id": "906a4170",
   "metadata": {},
   "outputs": [
    {
     "name": "stdout",
     "output_type": "stream",
     "text": [
      "true\n"
     ]
    }
   ],
   "source": [
    "# <, > : Less than, Greater than \n",
    "# <=, >= : Less than or equal, greater than or equal\n",
    "# == : Equals \n",
    "# != : Not Equal \n",
    "\n",
    "# Note: Python will convert Int to Float\n",
    "if 2 == 2.0:\n",
    "    print('true')"
   ]
  },
  {
   "cell_type": "markdown",
   "id": "46c25d36",
   "metadata": {},
   "source": [
    "### Joining Conditions"
   ]
  },
  {
   "cell_type": "code",
   "execution_count": 12,
   "id": "9251b9f8",
   "metadata": {},
   "outputs": [
    {
     "name": "stdout",
     "output_type": "stream",
     "text": [
      "What is your Age? 12\n",
      "What is your country? Albania\n",
      "You Qualify! \n"
     ]
    }
   ],
   "source": [
    "# Operators: These have priorities just like mathematical operators. \n",
    "# 1. not \n",
    "# 2. and \n",
    "# 3. or \n",
    "\n",
    "# Notes: \n",
    "# 1. not similair to != \n",
    "# 2. or conditions will stop evaluating if first condition is true\n",
    "# 3. You can use brackets to override operator priorities, which is also cleaner to read. \n",
    "\n",
    "user_age = int(input(\"What is your Age? \"))\n",
    "user_country = (input(\"What is your country? \"))\n",
    "if ((not user_country == 'Germany') and user_age < 25):\n",
    "    print('You Qualify! ')"
   ]
  },
  {
   "cell_type": "markdown",
   "id": "76ae1f49",
   "metadata": {},
   "source": [
    "### Nested If"
   ]
  },
  {
   "cell_type": "code",
   "execution_count": 14,
   "id": "4fc6db9a",
   "metadata": {},
   "outputs": [
    {
     "name": "stdout",
     "output_type": "stream",
     "text": [
      "Do you like to travel? (y/n)y\n",
      "Do you like asia (y/n)y\n",
      "That's spicy...\n"
     ]
    }
   ],
   "source": [
    "answer_a = input(\"Do you like to travel? (y/n)\")\n",
    "if answer_a == 'y':\n",
    "    answer_b = input('Do you like asia (y/n)')\n",
    "    if answer_b == 'y': \n",
    "        print('That\\'s spicy...')\n",
    "    else: \n",
    "        print('That\\'s too bad...')\n",
    "else: \n",
    "    print('Bummer dude.')"
   ]
  },
  {
   "cell_type": "markdown",
   "id": "2c5d4b24",
   "metadata": {},
   "source": [
    "### While Loop "
   ]
  },
  {
   "cell_type": "code",
   "execution_count": 17,
   "id": "24fa0472",
   "metadata": {},
   "outputs": [
    {
     "name": "stdout",
     "output_type": "stream",
     "text": [
      "1\n",
      "2\n",
      "3\n",
      "4\n",
      "5\n",
      "Finished\n"
     ]
    }
   ],
   "source": [
    "counter = 1\n",
    "\n",
    "while counter < 6: \n",
    "    print(counter)\n",
    "    counter += 1\n",
    "print('Finished')"
   ]
  },
  {
   "cell_type": "markdown",
   "id": "fd19f6ac",
   "metadata": {},
   "source": [
    "### For Loop "
   ]
  },
  {
   "cell_type": "code",
   "execution_count": 1,
   "id": "b8188120",
   "metadata": {},
   "outputs": [
    {
     "name": "stdout",
     "output_type": "stream",
     "text": [
      "h\n",
      "e\n",
      "l\n",
      "l\n",
      "o\n"
     ]
    }
   ],
   "source": [
    "# looping through a string \n",
    "for letter in 'hello': \n",
    "    print(letter)"
   ]
  },
  {
   "cell_type": "code",
   "execution_count": 3,
   "id": "131368af",
   "metadata": {},
   "outputs": [
    {
     "name": "stdout",
     "output_type": "stream",
     "text": [
      "1\n",
      "2\n",
      "3\n",
      "4\n",
      "5\n",
      "6\n",
      "7\n",
      "8\n",
      "9\n",
      "10\n"
     ]
    }
   ],
   "source": [
    "# looping through range -> inclusive of first number, exclusive of last\n",
    "for counter in range(1,11): \n",
    "    print(counter)"
   ]
  },
  {
   "cell_type": "code",
   "execution_count": null,
   "id": "7565feb0",
   "metadata": {},
   "outputs": [],
   "source": []
  }
 ],
 "metadata": {
  "kernelspec": {
   "display_name": "Python 3 (ipykernel)",
   "language": "python",
   "name": "python3"
  },
  "language_info": {
   "codemirror_mode": {
    "name": "ipython",
    "version": 3
   },
   "file_extension": ".py",
   "mimetype": "text/x-python",
   "name": "python",
   "nbconvert_exporter": "python",
   "pygments_lexer": "ipython3",
   "version": "3.11.5"
  }
 },
 "nbformat": 4,
 "nbformat_minor": 5
}
