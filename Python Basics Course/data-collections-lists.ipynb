{
 "cells": [
  {
   "cell_type": "markdown",
   "id": "d1661daa",
   "metadata": {},
   "source": [
    "## Collections \n",
    "- \"Complex Data Types\" or \"Container Data Types\" \n",
    "- Collection: A Data Type that can store more than one value in a single variable. \n",
    "\n",
    "### Types of Collections Covered: \n",
    "- lists - multiple values of the same type\n",
    "    - In python you can mix data types but it is not recommended. \n",
    "- tuples\n",
    "- dictionaries \n"
   ]
  },
  {
   "cell_type": "code",
   "execution_count": 8,
   "id": "6d9893e7",
   "metadata": {},
   "outputs": [
    {
     "name": "stdout",
     "output_type": "stream",
     "text": [
      "['New York', 'Atlanta', 'Los Angeles']\n",
      "New York\n",
      "Los Angeles\n"
     ]
    }
   ],
   "source": [
    "# ==== List Basics - indexed starting at 0, negative indices starting at -1 (end of list)\n",
    "\n",
    "empty_list = [] \n",
    "populated_list = ['New York', 'Atlanta', 'Los Angeles']\n",
    "\n",
    "print(populated_list) # entire list\n",
    "print(populated_list[0]) # specific item \n",
    "print(populated_list[-1]) # python can take negative indices, these can be out of range as well. \n"
   ]
  },
  {
   "cell_type": "code",
   "execution_count": 17,
   "id": "980325f0",
   "metadata": {},
   "outputs": [
    {
     "name": "stdout",
     "output_type": "stream",
     "text": [
      "['New York', 'Atlanta']\n",
      "['Austin', 'New York']\n",
      "['Atlanta', 'Los Angeles']\n",
      "['Austin', 'New York', 'Atlanta', 'Los Angeles']\n",
      "[]\n",
      "['Atlanta', 'Los Angeles']\n"
     ]
    }
   ],
   "source": [
    "# ==== Slicing - access subset of list \n",
    "\n",
    "cities = ['Austin','New York', 'Atlanta', 'Los Angeles']\n",
    "\n",
    "# first index inclusive, last exclusive \n",
    "print(cities[1:3])\n",
    "\n",
    "# omit first to index from start to specified\n",
    "print(cities[:2])\n",
    "\n",
    "# omit second to index from specified to end\n",
    "print(cities[2:])\n",
    "\n",
    "# we can omit both for the entire list\n",
    "print(cities[:])\n",
    "\n",
    "# out of range indexes will not trigger an error, but will return any data those indices cover \n",
    "print(cities[10:23])\n",
    "print(cities[2:23])"
   ]
  },
  {
   "cell_type": "code",
   "execution_count": 1,
   "id": "b501e47c",
   "metadata": {},
   "outputs": [
    {
     "name": "stdout",
     "output_type": "stream",
     "text": [
      "['Austin', 'New York', 'Los Angeles']\n",
      "['Atlanta', 'Los Angeles']\n"
     ]
    }
   ],
   "source": [
    "# ==== Deleting List Items. \"del\" is not a function, it is an instruction. \n",
    "\n",
    "cities = ['Austin','New York', 'Atlanta', 'Los Angeles']\n",
    "del cities[2] # elements shift left\n",
    "print(cities)\n",
    "\n",
    "# We can also combine slicing with deletion. All slicing features above work with delete too. \n",
    "cities = ['Austin','New York', 'Atlanta', 'Los Angeles']\n",
    "del cities[0:2]\n",
    "print(cities)\n",
    "\n",
    "# We can completely delete the list itself with del \n",
    "del cities \n",
    "#print(cities)"
   ]
  },
  {
   "cell_type": "code",
   "execution_count": 24,
   "id": "e7109fbd",
   "metadata": {},
   "outputs": [
    {
     "name": "stdout",
     "output_type": "stream",
     "text": [
      "['Austin', 'New York', 'Denver']\n",
      "['Austin', 'Asheville', 'New York', 'Denver']\n"
     ]
    }
   ],
   "source": [
    "# ==== Adding Elements to List ==== \n",
    "\n",
    "# Add value to end of list \n",
    "cities = ['Austin','New York']\n",
    "cities.append('Denver')\n",
    "print(cities)\n",
    "\n",
    "# Add value at specified index \n",
    "cities.insert(1, 'Asheville')\n",
    "print(cities)"
   ]
  },
  {
   "cell_type": "code",
   "execution_count": 27,
   "id": "dba83736",
   "metadata": {},
   "outputs": [
    {
     "name": "stdout",
     "output_type": "stream",
     "text": [
      "Austin\n",
      "New York\n",
      "Index: 0 City: Austin\n",
      "Index: 1 City: New York\n",
      "55.49999999999999\n"
     ]
    }
   ],
   "source": [
    "# ==== Iterating through lists ==== \n",
    "\n",
    "# basic iteration\n",
    "cities = ['Austin','New York']\n",
    "for city in cities: \n",
    "    print(city)\n",
    "\n",
    "# iterating by index - len returns length of list here\n",
    "for index in range(len(cities)):\n",
    "    print('Index:', index, 'City:', cities[index])\n",
    "    \n",
    "# sum items in a list \n",
    "expenses = [4.5, 3.4, 45.3, 2.3]\n",
    "sum = 0.0\n",
    "for expense in expenses: \n",
    "    sum += expense \n",
    "\n",
    "print(sum)\n",
    "    "
   ]
  },
  {
   "cell_type": "code",
   "execution_count": 2,
   "id": "0a4e9f2b",
   "metadata": {},
   "outputs": [
    {
     "name": "stdout",
     "output_type": "stream",
     "text": [
      "10 20\n",
      "20 10\n",
      "['Los Angeles', 'New York', 'Atlanta', 'Austin']\n"
     ]
    }
   ],
   "source": [
    "# ==== Swap value - Python has a specific way to do this with only two variables\n",
    "\n",
    "first = 10\n",
    "second = 20 \n",
    "print(first, second)\n",
    "\n",
    "first, second = second, first \n",
    "print(first, second)\n",
    "\n",
    "# We can do this with lists as well \n",
    "\n",
    "cities = ['Austin','New York', 'Atlanta', 'Los Angeles']\n",
    "cities[0], cities[3] = cities[3], cities[0]\n",
    "print(cities)\n"
   ]
  },
  {
   "cell_type": "code",
   "execution_count": 6,
   "id": "1e85b534",
   "metadata": {},
   "outputs": [
    {
     "name": "stdout",
     "output_type": "stream",
     "text": [
      "['Atlanta', 'Austin', 'Los Angeles', 'New York']\n",
      "[2, 4, 5, 6, 12]\n",
      "[12, 6, 5, 4, 2]\n",
      "[2, 4, 5, 6, 12]\n",
      "[12, 6, 5, 4, 2]\n"
     ]
    }
   ],
   "source": [
    "# ==== Sorting ==== \n",
    "\n",
    "# .sort() - method that will actually change the original list for good. \n",
    "# sorted() - a function that will return a new list with sorted elements, leaving the old in tact\n",
    "\n",
    "# Default sorting is ascending Alphabetically or numerically \n",
    "\n",
    "cities = ['Austin','New York', 'Atlanta', 'Los Angeles']\n",
    "cities.sort()\n",
    "print(cities)\n",
    "\n",
    "random_numbers = [5,2,4,6,12]\n",
    "random_numbers.sort()\n",
    "print(random_numbers)\n",
    "\n",
    "# reverse order \n",
    "\n",
    "random_numbers.sort(reverse=True)\n",
    "print(random_numbers)\n",
    "\n",
    "# Using sorted to leave original list unchanged. \n",
    "print(sorted(random_numbers))\n",
    "print(random_numbers)\n"
   ]
  },
  {
   "cell_type": "code",
   "execution_count": 8,
   "id": "7a2773dd",
   "metadata": {},
   "outputs": [
    {
     "name": "stdout",
     "output_type": "stream",
     "text": [
      "Austin is in the list\n",
      "Denver is not in the list\n"
     ]
    }
   ],
   "source": [
    "# ==== Checking for element presence ==== \n",
    "cities = ['Austin','New York', 'Atlanta', 'Los Angeles']\n",
    "\n",
    "# We can check for an item in the list \n",
    "if 'Austin' in cities:\n",
    "    print(\"Austin is in the list\")\n",
    "\n",
    "# We can also check for negation \n",
    "if 'Denver' not in cities: \n",
    "    print(\"Denver is not in the list\")\n"
   ]
  },
  {
   "cell_type": "code",
   "execution_count": 13,
   "id": "addee29f",
   "metadata": {},
   "outputs": [
    {
     "name": "stdout",
     "output_type": "stream",
     "text": [
      "Matt Josh\n",
      "[29, 5, 3] [29, 5, 3]\n",
      "[29, 5, 3] [1, 5, 3]\n"
     ]
    }
   ],
   "source": [
    "# ===== Copying lists =======\n",
    "\n",
    "# with primitive values, you can simply reassign to copy and then those variables will be independent\n",
    "# here, the new variable is pointing to a new and independent assignment in memory for that variable.\n",
    "\n",
    "name_original = 'Josh'\n",
    "name_new = name_original \n",
    "name_original = 'Matt'\n",
    "print(name_original, name_new)\n",
    "\n",
    "# lists DO NOT work this way - reassignment will affect both lists\n",
    "# - complex data types (like lists) reference the data in memory. \n",
    "# - when a new variable is created to reference a list, it's referencing the same spot in memory as the original. \n",
    "\n",
    "list_original = [1,5,3]\n",
    "list_new = list_original\n",
    "list_original[0] = 29\n",
    "print(list_original, list_new)\n",
    "\n",
    "# to actually copy and create a new list in memory, we simply use slicing\n",
    "\n",
    "list_original = [1,5,3]\n",
    "list_new = list_original[:]\n",
    "list_original[0] = 29\n",
    "print(list_original, list_new)"
   ]
  },
  {
   "cell_type": "code",
   "execution_count": 15,
   "id": "e5d8426b",
   "metadata": {},
   "outputs": [
    {
     "name": "stdout",
     "output_type": "stream",
     "text": [
      "[1, 2, 3, 4, 5, 6, 7, 8, 9]\n",
      "[2, 4, 6, 8]\n"
     ]
    }
   ],
   "source": [
    "# ==== list comprehensions - quickly create lists ====\n",
    "numbers = [i for i in range(1,10)]\n",
    "print(numbers)\n",
    "\n",
    "# we can also manipulate the creation of numbers\n",
    "even_numbers = [i for i in range(1,10) if i%2 == 0]\n",
    "print(even_numbers)"
   ]
  },
  {
   "cell_type": "code",
   "execution_count": 30,
   "id": "b1d8d923",
   "metadata": {},
   "outputs": [
    {
     "name": "stdout",
     "output_type": "stream",
     "text": [
      "[['A1', 'A2', 'A3'], ['B1', 'B2', 'B3']]\n",
      "B1\n",
      "\n",
      "element: ['A1', 'A2', 'A3']\n",
      "element: ['B1', 'B2', 'B3']\n",
      "\n",
      "element A1\n",
      "element A2\n",
      "element A3\n",
      "element B1\n",
      "element B2\n",
      "element B3\n",
      "\n",
      "A1 A2 A3 \n",
      "B1 B2 B3 \n",
      "\n",
      "[[1, 2], [1, 2]]\n"
     ]
    }
   ],
   "source": [
    "# ==== Nested Lists ====\n",
    "\n",
    "cells = [['A1', 'A2', 'A3'], ['B1', 'B2', 'B3']]\n",
    "print(cells)\n",
    "\n",
    "# reference specific element \n",
    "print(cells[1][0])\n",
    "\n",
    "# print individual lists \n",
    "print()\n",
    "for x in cells: \n",
    "    print(\"element:\", x)\n",
    "\n",
    "# print individual elements \n",
    "print()\n",
    "for x in cells: \n",
    "    for y in x: \n",
    "        print(\"element\", y)\n",
    "        \n",
    "# we can print this in a cleaner fashion... \n",
    "print()\n",
    "for x in cells: \n",
    "    for y in x: \n",
    "        print(y, '', end = '')\n",
    "    print()\n",
    "    \n",
    "# we can also create multidimension lists with list comprehensions \n",
    "print()\n",
    "table = [[i for i in range(1,3)] for j in range(1,3)]\n",
    "print(table)"
   ]
  },
  {
   "cell_type": "code",
   "execution_count": 35,
   "id": "92d13efe",
   "metadata": {},
   "outputs": [
    {
     "name": "stdout",
     "output_type": "stream",
     "text": [
      "['New York', 'Boston', 'London', 'Bristol']\n",
      "['New York', 'Boston', 'London', 'Bristol']\n",
      "[0, 1, 0, 1, 0, 1, 0, 1, 0, 1, 0, 1, 0, 1, 0, 1, 0, 1, 0, 1]\n"
     ]
    }
   ],
   "source": [
    "# ==== Adding and Multiplying Lists ====\n",
    "\n",
    "list_us = ['New York', 'Boston']\n",
    "list_uk = ['London', 'Bristol']\n",
    "\n",
    "# adding seems to create a new list in memory\n",
    "list_all = list_us + list_uk \n",
    "print(list_all)\n",
    "list_us = ['Denver']\n",
    "print(list_all)\n",
    "\n",
    "# multiplying - results in lenthening the list, not operating on the existing elements \n",
    "list_nums = [0, 1] * 10 \n",
    "print(list_nums)"
   ]
  },
  {
   "cell_type": "code",
   "execution_count": 39,
   "id": "e44aac6c",
   "metadata": {},
   "outputs": [
    {
     "name": "stdout",
     "output_type": "stream",
     "text": [
      "D\n",
      "Green \n",
      "string contains a number\n"
     ]
    }
   ],
   "source": [
    "# Additional String Operations \n",
    "\n",
    "# access element or slice with strings \n",
    "band = 'Green Day'\n",
    "print(band[6])\n",
    "print(band[:6])\n",
    "\n",
    "# we cannot make assignments with strings as we would with lists\n",
    "# band[0] = 'M'\n",
    "\n",
    "# Transform strings - lots here, so check the docs\n",
    "text = 'please change me'\n",
    "text_cap = text.upper()\n",
    "\n",
    "# check for numbers: \n",
    "string = 'Sarah is 45'\n",
    "if string.isnumeric: \n",
    "    print('string contains a number')"
   ]
  },
  {
   "cell_type": "code",
   "execution_count": null,
   "id": "0e009e95",
   "metadata": {},
   "outputs": [],
   "source": []
  }
 ],
 "metadata": {
  "kernelspec": {
   "display_name": "Python 3 (ipykernel)",
   "language": "python",
   "name": "python3"
  },
  "language_info": {
   "codemirror_mode": {
    "name": "ipython",
    "version": 3
   },
   "file_extension": ".py",
   "mimetype": "text/x-python",
   "name": "python",
   "nbconvert_exporter": "python",
   "pygments_lexer": "ipython3",
   "version": "3.12.0"
  }
 },
 "nbformat": 4,
 "nbformat_minor": 5
}
