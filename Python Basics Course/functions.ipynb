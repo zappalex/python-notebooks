{
 "cells": [
  {
   "cell_type": "markdown",
   "id": "cf1ed26d",
   "metadata": {},
   "source": [
    "## Functions\n",
    "\n",
    "- Functions can either return a value or cause some effect\n",
    "- Same naming principles that apply to variables\n",
    "- must contain at least one line of code\n",
    "- Parameters vs. Arguments\n",
    "        - Parameters are defined and scoped to the function\n",
    "        - An argument is the actual data passed into a function"
   ]
  },
  {
   "cell_type": "code",
   "execution_count": 1,
   "id": "7d1e6812",
   "metadata": {},
   "outputs": [
    {
     "name": "stdout",
     "output_type": "stream",
     "text": [
      "Hello There\n"
     ]
    }
   ],
   "source": [
    "# ==== Basic Definition ====\n",
    "def greet(): \n",
    "    print('Hello There')\n",
    "    \n",
    "#call \n",
    "greet()"
   ]
  },
  {
   "cell_type": "code",
   "execution_count": 7,
   "id": "b183b41f",
   "metadata": {},
   "outputs": [
    {
     "name": "stdout",
     "output_type": "stream",
     "text": [
      "4.533333333333334\n",
      "Jeff Hank\n",
      "Jeff Bill\n"
     ]
    }
   ],
   "source": [
    "# ==== Parameters ====\n",
    "\n",
    "input_numbers = [5.0, 3.4, 5.2]\n",
    "def get_avg(numbers): \n",
    "    sum = 0\n",
    "    for number in numbers: \n",
    "        sum += number \n",
    "    return sum / len(numbers) \n",
    "print(get_avg(input_numbers))\n",
    "\n",
    "# ==== Multiple Parameters ====\n",
    "\n",
    "def multiple(person1, person2): \n",
    "    print(person1, person2)\n",
    "multiple('Jeff', 'Hank')\n",
    "\n",
    "# ==== Default Parameter Values ==== \n",
    "# we can mix normal and defaulted, but defaulted params must come at the end. \n",
    "\n",
    "def multiple(person1, person2='Bill'): \n",
    "    print(person1, person2)\n",
    "multiple('Jeff')\n"
   ]
  },
  {
   "cell_type": "code",
   "execution_count": 14,
   "id": "88378938",
   "metadata": {},
   "outputs": [
    {
     "name": "stdout",
     "output_type": "stream",
     "text": [
      "tacoma\n",
      "\n",
      "tacoma\n",
      "tundra\n",
      "tacoma\n",
      "\n",
      "tacoma\n",
      "tundra\n",
      "tundra\n",
      "\n",
      "['tacoma']\n",
      "['tacoma', 'tundra']\n",
      "['tacoma', 'tundra']\n"
     ]
    }
   ],
   "source": [
    "# ==== Name Scopes ==== \n",
    "\n",
    "# Function variable can access defined variable in global scope\n",
    "def show_truth(): \n",
    "    print(mystery_var)\n",
    "    \n",
    "mystery_var = 'tacoma'# global \n",
    "show_truth()\n",
    "\n",
    "# Overriding global variable in function only persists in the function whether passed or just referenced\n",
    "# This is known as \"shadowing\"\n",
    "print()\n",
    "def show_truth(): \n",
    "    mystery_var = 'tundra' # local scope\n",
    "    print(mystery_var)\n",
    "    \n",
    "mystery_var = 'tacoma' # global scope \n",
    "print(mystery_var)\n",
    "show_truth()\n",
    "print(mystery_var)\n",
    "\n",
    "# To override the global variable in a function, there is a keyword\n",
    "print()\n",
    "def show_truth(): \n",
    "    global mystery_var\n",
    "    mystery_var = 'tundra' \n",
    "    print(mystery_var)\n",
    "    \n",
    "mystery_var = 'tacoma' \n",
    "print(mystery_var)\n",
    "show_truth()\n",
    "print(mystery_var)\n",
    "\n",
    "# Special case for Lists:\n",
    "# You can assign a new list in a function with '=' and it will be shadowed. \n",
    "# If you use .append or del, it will not shadow and modify the global list\n",
    "print()\n",
    "def show_truth(): \n",
    "    mystery_var.append('tundra')\n",
    "    print(mystery_var)\n",
    "    \n",
    "mystery_var = ['tacoma'] \n",
    "print(mystery_var)\n",
    "show_truth()\n",
    "print(mystery_var)\n"
   ]
  },
  {
   "cell_type": "code",
   "execution_count": null,
   "id": "527e469f",
   "metadata": {},
   "outputs": [],
   "source": [
    "# ==== None Value ==== \n",
    "\n"
   ]
  }
 ],
 "metadata": {
  "kernelspec": {
   "display_name": "Python 3 (ipykernel)",
   "language": "python",
   "name": "python3"
  },
  "language_info": {
   "codemirror_mode": {
    "name": "ipython",
    "version": 3
   },
   "file_extension": ".py",
   "mimetype": "text/x-python",
   "name": "python",
   "nbconvert_exporter": "python",
   "pygments_lexer": "ipython3",
   "version": "3.11.5"
  }
 },
 "nbformat": 4,
 "nbformat_minor": 5
}
