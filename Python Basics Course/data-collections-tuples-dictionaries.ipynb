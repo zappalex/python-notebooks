{
 "cells": [
  {
   "cell_type": "markdown",
   "id": "ce269ec5",
   "metadata": {},
   "source": [
    "### Tuples and Dictionaries \n",
    "- Tuples: Collections of multiple elements of the same or different data types\n",
    "    - round brackets vs. square brackets (lists) \n",
    "    - lists are mutable, tuples are not\n",
    "    - to change a tuple, you need to full reassign the variable. No appending or deleting\n",
    "- When to use Lists vs. Tuples\n",
    "    - Lists used for values of the same type\n",
    "    - Tuples often used when we group together different value types of related info\n",
    "- Dictionary: Collection use to store Key / Value pairs \n",
    "    - All Keys must be unique\n",
    "    - You can only provide a key to find it's value not the other way around. \n",
    "    - Keys must be immutable data types, but values can be either mutable or immutable. \n"
   ]
  },
  {
   "cell_type": "code",
   "execution_count": 4,
   "id": "9a9d510e",
   "metadata": {},
   "outputs": [],
   "source": [
    "# ==== Tuple Basics ====\n",
    "\n",
    "empty_tuple = () # empty needs brackets\n",
    "one_tuple_example_a = (1,) # can use brackets\n",
    "one_tuple_example_b = 1, # can also omit brackets\n",
    "\n",
    "multiple_tuple = 1,2,3\n",
    "#multiple_tuple.append(3)\n",
    "#del multiple_tuple[0]"
   ]
  },
  {
   "cell_type": "code",
   "execution_count": 14,
   "id": "4ad31e81",
   "metadata": {},
   "outputs": [
    {
     "name": "stdout",
     "output_type": "stream",
     "text": [
      "3\n",
      "\n",
      "John found\n",
      "\n",
      "John\n",
      "American\n",
      "1964\n",
      "('John', 'American', 1964, 'teacher', 'male')\n"
     ]
    }
   ],
   "source": [
    "# ==== Tuple Operations ==== \n",
    "user_data = ('John', 'American', 1964)\n",
    "\n",
    "# length \n",
    "print(len(user_data))\n",
    "\n",
    "# search tuple\n",
    "print()\n",
    "if 'John' in user_data:\n",
    "    print('John found')\n",
    "\n",
    "# for loops \n",
    "print()\n",
    "for data in user_data: \n",
    "    print(data)\n",
    "    \n",
    "# append to tuple - this creates a new tuple behind the scenes\n",
    "user_data += ('teacher', 'male')\n",
    "print(user_data)"
   ]
  },
  {
   "cell_type": "code",
   "execution_count": 15,
   "id": "53c75155",
   "metadata": {},
   "outputs": [
    {
     "name": "stdout",
     "output_type": "stream",
     "text": [
      "City London Country UK\n",
      "City Canberra Country Australia\n"
     ]
    }
   ],
   "source": [
    "# Tuples in Lists \n",
    "capitals = [('London', 'UK'), ('Canberra', 'Australia')]\n",
    "\n",
    "for capital in capitals: \n",
    "    print('City:', capital[0], 'Country:', capital[1])"
   ]
  },
  {
   "cell_type": "code",
   "execution_count": 24,
   "id": "52574861",
   "metadata": {},
   "outputs": [
    {
     "name": "stdout",
     "output_type": "stream",
     "text": [
      "('Daniel', 35, ['Brittany', 'Joseph'])\n",
      "('Daniel', 35, ['Brittany', 'Joseph', 'Christopher'])\n"
     ]
    }
   ],
   "source": [
    "# Lists in Tuples - even though the tuple is immutable, if it contains a list(mutable) you can modify it. \n",
    "person = ('Daniel', 35, ['Brittany', 'Joseph'])\n",
    "print(person)\n",
    "\n",
    "person[2].append('Christopher')\n",
    "print(person)\n",
    "\n",
    "#person.append('Banker')"
   ]
  },
  {
   "cell_type": "code",
   "execution_count": 25,
   "id": "2d1cd507",
   "metadata": {},
   "outputs": [
    {
     "name": "stdout",
     "output_type": "stream",
     "text": [
      "mark@gmail.com\n"
     ]
    }
   ],
   "source": [
    "# Dictionary \n",
    "\n",
    "emails = {\n",
    "    'Jennifer':'jen@gmail.com', \n",
    "    'Mark':'mark@gmail.com'\n",
    "}\n",
    "\n",
    "print(emails['Mark'])"
   ]
  },
  {
   "cell_type": "code",
   "execution_count": 34,
   "id": "e2c10133",
   "metadata": {},
   "outputs": [
    {
     "name": "stdout",
     "output_type": "stream",
     "text": [
      "2\n",
      "John is in the class\n",
      "{'Anne': 'A'}\n",
      "\n",
      "Anne\n",
      "John\n",
      "\n",
      "A\n",
      "C\n",
      "\n",
      "Person: Anne Grade: A\n",
      "Person: John Grade: C\n"
     ]
    }
   ],
   "source": [
    "# Dictionary Operations \n",
    "\n",
    "# empty dictionary \n",
    "grades = {} \n",
    "\n",
    "# add values \n",
    "grades['John'] = 'A'\n",
    "grades['Anne'] = 'B'\n",
    "\n",
    "# update values \n",
    "grades['Anne'] = 'A'\n",
    "grades.update({'John':'A+'})\n",
    "\n",
    "# check number of key-value pairs \n",
    "print(len(grades))\n",
    "\n",
    "# check for a key \n",
    "if 'John' in grades:\n",
    "    print('John is in the class')\n",
    "    \n",
    "# delete key \n",
    "del grades['John']\n",
    "print(grades)\n",
    "\n",
    "# loop through keys \n",
    "print()\n",
    "grades['John'] = 'C'\n",
    "for key in grades.keys(): \n",
    "    print(key)\n",
    "    \n",
    "# loop through values \n",
    "print() \n",
    "for value in grades.values(): \n",
    "    print(value)\n",
    "    \n",
    "# loop through keys and values \n",
    "print()\n",
    "for person, grade in grades.items(): \n",
    "    print('Person:', person,'Grade:', grade)"
   ]
  },
  {
   "cell_type": "code",
   "execution_count": null,
   "id": "4f784cb0",
   "metadata": {},
   "outputs": [],
   "source": []
  }
 ],
 "metadata": {
  "kernelspec": {
   "display_name": "Python 3 (ipykernel)",
   "language": "python",
   "name": "python3"
  },
  "language_info": {
   "codemirror_mode": {
    "name": "ipython",
    "version": 3
   },
   "file_extension": ".py",
   "mimetype": "text/x-python",
   "name": "python",
   "nbconvert_exporter": "python",
   "pygments_lexer": "ipython3",
   "version": "3.12.0"
  }
 },
 "nbformat": 4,
 "nbformat_minor": 5
}
