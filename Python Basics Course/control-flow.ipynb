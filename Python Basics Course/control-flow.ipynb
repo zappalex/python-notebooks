{
 "cells": [
  {
   "cell_type": "markdown",
   "id": "bff578d5",
   "metadata": {},
   "source": [
    "### If Statement \n",
    "- Executable code in statement must be tabbed or spaced. The recommendation is a tab (4 spaces) \n",
    "- This code is referred to as a block, and can contain multiple lines, given they are tabbed in the correct manner\n",
    "- If + Else must match in tabbing as well"
   ]
  },
  {
   "cell_type": "code",
   "execution_count": 24,
   "id": "99de9281",
   "metadata": {},
   "outputs": [
    {
     "name": "stdout",
     "output_type": "stream",
     "text": [
      "What is your age? 45\n",
      "You are over 30\n",
      "Another statement here\n"
     ]
    }
   ],
   "source": [
    "# If Statement with block \n",
    "\n",
    "user_age = int(input(\"What is your age? \"))\n",
    "\n",
    "if user_age > 30: \n",
    "    print(\"You are over 30\")\n",
    "    print(\"Another statement here\")\n",
    "    "
   ]
  },
  {
   "cell_type": "code",
   "execution_count": 5,
   "id": "9c1abd8c",
   "metadata": {},
   "outputs": [
    {
     "name": "stdout",
     "output_type": "stream",
     "text": [
      "What is your age? 23\n",
      "Another statement here\n"
     ]
    }
   ],
   "source": [
    "# If Statement with mis-tabbed block (wont work) \n",
    "\n",
    "user_age = int(input(\"What is your age? \"))\n",
    "\n",
    "if user_age > 30: \n",
    "    print(\"You are over 30\")\n",
    "print(\"Another statement here\")\n"
   ]
  },
  {
   "cell_type": "code",
   "execution_count": null,
   "id": "80dd33ae",
   "metadata": {},
   "outputs": [],
   "source": [
    "# If Else Statement \n",
    "\n",
    "user_age = int(input(\"What is your age? \"))\n",
    "\n",
    "if user_age > 30: \n",
    "    print(\"You are over 30\")\n",
    "else: \n",
    "    print(\"You are 30 or younger\")\n",
    "    "
   ]
  },
  {
   "cell_type": "code",
   "execution_count": 9,
   "id": "01e8de4e",
   "metadata": {},
   "outputs": [
    {
     "name": "stdout",
     "output_type": "stream",
     "text": [
      "What is your age? 32\n",
      "You are early thirties\n"
     ]
    }
   ],
   "source": [
    "# Else If Statement\n",
    "\n",
    "user_age = int(input(\"What is your age? \"))\n",
    "\n",
    "if user_age > 35: \n",
    "    print(\"You are getting up there\")\n",
    "elif user_age > 30 & user_age < 35: \n",
    "    print(\"You are early thirties\")\n",
    "else: \n",
    "    print(\"You are 30 or younger\")\n",
    "    "
   ]
  },
  {
   "cell_type": "markdown",
   "id": "7d4426ba",
   "metadata": {},
   "source": [
    "### Logical Operators "
   ]
  },
  {
   "cell_type": "code",
   "execution_count": 11,
   "id": "906a4170",
   "metadata": {},
   "outputs": [
    {
     "name": "stdout",
     "output_type": "stream",
     "text": [
      "true\n"
     ]
    }
   ],
   "source": [
    "# <, > : Less than, Greater than \n",
    "# <=, >= : Less than or equal, greater than or equal\n",
    "# == : Equals \n",
    "# != : Not Equal \n",
    "\n",
    "# Note: Python will convert Int to Float\n",
    "if 2 == 2.0:\n",
    "    print('true')"
   ]
  },
  {
   "cell_type": "markdown",
   "id": "46c25d36",
   "metadata": {},
   "source": [
    "### Joining Conditions"
   ]
  },
  {
   "cell_type": "code",
   "execution_count": 12,
   "id": "9251b9f8",
   "metadata": {},
   "outputs": [
    {
     "name": "stdout",
     "output_type": "stream",
     "text": [
      "What is your Age? 12\n",
      "What is your country? Albania\n",
      "You Qualify! \n"
     ]
    }
   ],
   "source": [
    "# Operators: These have priorities just like mathematical operators. \n",
    "# 1. not \n",
    "# 2. and \n",
    "# 3. or \n",
    "\n",
    "# Notes: \n",
    "# 1. not similair to != \n",
    "# 2. or conditions will stop evaluating if first condition is true\n",
    "# 3. You can use brackets to override operator priorities, which is also cleaner to read. \n",
    "\n",
    "user_age = int(input(\"What is your Age? \"))\n",
    "user_country = (input(\"What is your country? \"))\n",
    "\n",
    "if ((not user_country == 'Germany') and user_age < 25):\n",
    "    print('You Qualify! ')\n",
    "    "
   ]
  },
  {
   "cell_type": "markdown",
   "id": "76ae1f49",
   "metadata": {},
   "source": [
    "### Nested If"
   ]
  },
  {
   "cell_type": "code",
   "execution_count": 14,
   "id": "4fc6db9a",
   "metadata": {},
   "outputs": [
    {
     "name": "stdout",
     "output_type": "stream",
     "text": [
      "Do you like to travel? (y/n)y\n",
      "Do you like asia (y/n)y\n",
      "That's spicy...\n"
     ]
    }
   ],
   "source": [
    "answer_a = input('Do you like to travel? (y/n) ')\n",
    "\n",
    "if answer_a == 'y':\n",
    "    answer_b = input('Do you like asia (y/n) ')\n",
    "    if answer_b == 'y': \n",
    "        print('That\\'s spicy...')\n",
    "    else: \n",
    "        print('That\\'s too bad...')\n",
    "else: \n",
    "    print('Bummer dude.')\n",
    "    "
   ]
  },
  {
   "cell_type": "markdown",
   "id": "2c5d4b24",
   "metadata": {},
   "source": [
    "### While Loop "
   ]
  },
  {
   "cell_type": "code",
   "execution_count": 8,
   "id": "24fa0472",
   "metadata": {},
   "outputs": [
    {
     "name": "stdout",
     "output_type": "stream",
     "text": [
      "1\n",
      "2\n",
      "3\n",
      "Finished\n"
     ]
    }
   ],
   "source": [
    "counter = 1\n",
    "\n",
    "while counter < 4: \n",
    "    print(counter)\n",
    "    counter += 1\n",
    "print('Finished')\n"
   ]
  },
  {
   "cell_type": "markdown",
   "id": "fd19f6ac",
   "metadata": {},
   "source": [
    "### For Loop "
   ]
  },
  {
   "cell_type": "code",
   "execution_count": 6,
   "id": "b8188120",
   "metadata": {},
   "outputs": [
    {
     "name": "stdout",
     "output_type": "stream",
     "text": [
      "c\n",
      "a\n",
      "t\n"
     ]
    }
   ],
   "source": [
    "# looping through a string \n",
    "\n",
    "for letter in 'cat': \n",
    "    print(letter)\n",
    "    "
   ]
  },
  {
   "cell_type": "code",
   "execution_count": 7,
   "id": "eb737716",
   "metadata": {},
   "outputs": [
    {
     "name": "stdout",
     "output_type": "stream",
     "text": [
      "1\n",
      "2\n",
      "3\n"
     ]
    }
   ],
   "source": [
    "# looping through range -> inclusive of start value, exclusive of stop value\n",
    "\n",
    "for counter in range(1,4): \n",
    "    print(counter)\n",
    "    "
   ]
  },
  {
   "cell_type": "code",
   "execution_count": 9,
   "id": "35db1d31",
   "metadata": {},
   "outputs": [
    {
     "name": "stdout",
     "output_type": "stream",
     "text": [
      "0\n",
      "1\n",
      "2\n",
      "3\n"
     ]
    }
   ],
   "source": [
    "# looping through range with default start of 0\n",
    "\n",
    "for counter in range(4): \n",
    "    print(counter)  \n",
    "    "
   ]
  },
  {
   "cell_type": "code",
   "execution_count": 11,
   "id": "6b4dd17e",
   "metadata": {},
   "outputs": [
    {
     "name": "stdout",
     "output_type": "stream",
     "text": [
      "1\n",
      "4\n",
      "7\n",
      "10\n"
     ]
    }
   ],
   "source": [
    "# looping through range with start, stop and increase \n",
    "\n",
    "for counter in range(1,11,3):\n",
    "    print(counter)   \n",
    "    "
   ]
  },
  {
   "cell_type": "markdown",
   "id": "7fd2990a",
   "metadata": {},
   "source": [
    "### Break and Continue"
   ]
  },
  {
   "cell_type": "code",
   "execution_count": 12,
   "id": "ab8712f4",
   "metadata": {},
   "outputs": [
    {
     "name": "stdout",
     "output_type": "stream",
     "text": [
      "Please enter your name:Gerald\n",
      "Hello Gerald\n",
      "Please enter your name:Karl\n",
      "Hello Karl\n",
      "Please enter your name:exit\n"
     ]
    }
   ],
   "source": [
    "# break will kick you out of a loop entirely \n",
    "\n",
    "while True: \n",
    "    name = input(\"Please enter your name:\")\n",
    "    if (name == 'exit'):\n",
    "        break\n",
    "    print('Hello', name)\n"
   ]
  },
  {
   "cell_type": "code",
   "execution_count": 17,
   "id": "fd489b7d",
   "metadata": {},
   "outputs": [
    {
     "name": "stdout",
     "output_type": "stream",
     "text": [
      "1\n",
      "2\n",
      "4\n",
      "5\n",
      "7\n"
     ]
    }
   ],
   "source": [
    "# continue will kick you out of the current iteration of the loop \n",
    "# skipping numbers divisbible by 3 here \n",
    "\n",
    "for i in range(1,8):\n",
    "    if i % 3 == 0: \n",
    "        continue \n",
    "    print(i)\n"
   ]
  },
  {
   "cell_type": "markdown",
   "id": "1449e06a",
   "metadata": {},
   "source": [
    "### Additional Loop Features"
   ]
  },
  {
   "cell_type": "code",
   "execution_count": 20,
   "id": "aff127c1",
   "metadata": {},
   "outputs": [],
   "source": [
    "# all for, if, elif, else, etc. conditions require at least 1 instruction. \n",
    "# pass allows us to structure these out without code until you can implement logic. \n",
    "\n",
    "for i in range(11):\n",
    "    pass \n"
   ]
  },
  {
   "cell_type": "code",
   "execution_count": 21,
   "id": "30fd1cf1",
   "metadata": {},
   "outputs": [
    {
     "name": "stdout",
     "output_type": "stream",
     "text": [
      "a: 0 b: 0\n",
      "a: 0 b: 1\n",
      "a: 1 b: 0\n",
      "a: 1 b: 1\n"
     ]
    }
   ],
   "source": [
    "# for loops can be nested as well \n",
    "\n",
    "for a in range(2):\n",
    "    for b in range(2):\n",
    "        print('a:', a, \"b:\", b)\n"
   ]
  },
  {
   "cell_type": "code",
   "execution_count": 23,
   "id": "243168d8",
   "metadata": {},
   "outputs": [
    {
     "name": "stdout",
     "output_type": "stream",
     "text": [
      "2\n",
      "3\n",
      "4\n",
      "else: 5\n"
     ]
    }
   ],
   "source": [
    "# rarely used: for and while loops can have else statements, which will always be executed \n",
    "# the only way to skip the else is with a break statement in the loop body\n",
    "\n",
    "i = 2\n",
    "while i < 5: \n",
    "    print(i)\n",
    "    i += 1\n",
    "else: \n",
    "    print('else:', i)\n"
   ]
  },
  {
   "cell_type": "code",
   "execution_count": null,
   "id": "b0db507c",
   "metadata": {},
   "outputs": [],
   "source": []
  }
 ],
 "metadata": {
  "kernelspec": {
   "display_name": "Python 3 (ipykernel)",
   "language": "python",
   "name": "python3"
  },
  "language_info": {
   "codemirror_mode": {
    "name": "ipython",
    "version": 3
   },
   "file_extension": ".py",
   "mimetype": "text/x-python",
   "name": "python",
   "nbconvert_exporter": "python",
   "pygments_lexer": "ipython3",
   "version": "3.12.0"
  }
 },
 "nbformat": 4,
 "nbformat_minor": 5
}
