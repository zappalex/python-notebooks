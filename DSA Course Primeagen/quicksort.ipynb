{
 "cells": [
  {
   "cell_type": "markdown",
   "id": "60aa7656-874d-4e96-a619-4621accd4d77",
   "metadata": {},
   "source": [
    "# Quick Sort \n",
    "\n",
    "- This is a \"divider and conquer\" algorithm -> Split your input into smaller chunks, go over those smaller sub sections themselves, keep splitting until it's something easy to solve.\n",
    "- There is also **Merge Sort**, that is not covered here, but also very similar.\n",
    "\n",
    "## Algorithm \n",
    "- We pick a pointer in the array, \"P\" that is our pivot. Ideally, this is near the middle of the array \n",
    "- We have another pointer at the start of the array, that walks the array to the point P and all values greater than P are placed after it, all items less than P before it.\n",
    "- This is referred to as a **weak sort**\n",
    "- From here we split the sorting area into two groups, before and after the pivot, and we do the same thing all over agin.\n",
    "- once we get to the point where each array is 0 or 1, we can stop. It is sorted.\n",
    "- **Note:** low and high values in the partition are both inclusive. \n",
    "\n",
    "## Running Time\n",
    "- Best Case: O(NlogN) with good pivots\n",
    "- Worst Case: O(N^2) in the case of a reverse sorted array and bad pivots\n",
    "\n",
    "## Strategies: \n",
    "- Always pick pivot in the middle of the range, not random\n",
    "- Chances of hitting all the wrong conditions that lead to N^2 is pretty low anyway. \n",
    "\n",
    "## Notes: \n",
    "- Merge Sort will always do O(NlogN) but the constant in front of it can be rather large, thus it will not always perform better than Quick Sort. "
   ]
  },
  {
   "cell_type": "markdown",
   "id": "0ebe382f-62f6-46ce-8e41-4aafa33ad3c2",
   "metadata": {},
   "source": [
    "## Implementation"
   ]
  },
  {
   "cell_type": "code",
   "execution_count": null,
   "id": "cd83af6e-1ef8-4c6b-8b04-ffbc1f588923",
   "metadata": {},
   "outputs": [],
   "source": [
    "\n",
    "# calls partition, gets pivot, does sorting, manages recursion \n",
    "def quicksort(array, lo, hi): \n",
    "    if lo >= hi: \n",
    "        return \n",
    "    \n",
    "    pivot = partition(array, lo, hi)\n",
    "    quicksort(array, lo, pivot - 1)\n",
    "    quicksort(array, pivot + 1, hi)\n",
    "\n",
    "\n",
    "# produces pivot index and moves items around. returns pivot index\n",
    "def partition(array, lo, hi): \n",
    "    pivot = array[hi]\n",
    "\n",
    "    index = lo -1\n",
    "\n",
    "    for i in range(lo, hi): \n",
    "        if array[i] <= pivot:\n",
    "           index += 1 \n",
    "           array[i], array[index] = array[index], array[i]\n",
    "\n",
    "    index += 1 \n",
    "    array[hi], array[index] = array[index], array[hi]\n",
    "\n",
    "    return index \n",
    "\n",
    "# Testing... \n",
    "array = [4, 8, 12, 1, 3, 5, 23, 6, 54]\n",
    "print(array) \n",
    "quicksort(array, 0, len(array)-1)\n",
    "print(array) \n"
   ]
  }
 ],
 "metadata": {
  "kernelspec": {
   "display_name": "Python 3 (ipykernel)",
   "language": "python",
   "name": "python3"
  },
  "language_info": {
   "codemirror_mode": {
    "name": "ipython",
    "version": 3
   },
   "file_extension": ".py",
   "mimetype": "text/x-python",
   "name": "python",
   "nbconvert_exporter": "python",
   "pygments_lexer": "ipython3",
   "version": "3.12.0"
  }
 },
 "nbformat": 4,
 "nbformat_minor": 5
}
