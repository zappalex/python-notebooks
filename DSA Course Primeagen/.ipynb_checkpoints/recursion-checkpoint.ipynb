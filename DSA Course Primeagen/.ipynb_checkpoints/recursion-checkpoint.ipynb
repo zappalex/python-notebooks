{
 "cells": [
  {
   "cell_type": "markdown",
   "id": "138f58f3-ee06-465b-a116-80f0cc4ded60",
   "metadata": {},
   "source": [
    "# Recursion \n",
    "\n",
    "- Simplest way to think of recursion is a function that calls itself until the problem is solved. This usually involves a \"base case\" that is the point at which the problem is solved.\n",
    "- **Always clearly identify your base case** (the most important part). If you don't have a good base case, Recursion is excelptionally hard. If you can identify a good/clever base case, Recursion is easy.\n",
    "\n",
    "### Three Important values of a function \n",
    "- Return Address: each time a function is called, it needs to know how it got where it is, and where to hand back it's value.\n",
    "- Return Value: What is the function returning?\n",
    "- Arguments: What is being passed into the function?\n",
    "\n",
    "### An Example - General Overview \n",
    "- This function will execute, where the return address will be pointing to the function that called it, in this case it will be the function itself. Under the hood, we are essentially creating a stack trace. If this function were to error out before hitting the base case and completing, it would show a stack trace of the succession of function calls. \n",
    "- The return values will essentially be incomplete until we hit our base case because half of calculating the return value is dependent on a function that hasn't completed yet. We are waiting for it to complete.\n",
    "- Arguments are just the same as those being passed in.\n",
    "- In terms of execution, we essentially go down the stack until we hit our base case, then go back up the stack, ending on the original calling method.\n"
   ]
  },
  {
   "cell_type": "code",
   "execution_count": 1,
   "id": "a07a7ca4-b2ae-479a-b5a9-4f8f8f5e50cb",
   "metadata": {},
   "outputs": [
    {
     "name": "stdout",
     "output_type": "stream",
     "text": [
      "6\n"
     ]
    }
   ],
   "source": [
    "def sum(number): \n",
    "    # base case\n",
    "    if (number == 1): \n",
    "        return 1\n",
    "\n",
    "    # recursion\n",
    "    return number + sum(number-1)\n",
    "    \n",
    "print(sum(3))"
   ]
  },
  {
   "cell_type": "markdown",
   "id": "577c764d-000c-4c33-a133-94db357976b7",
   "metadata": {},
   "source": [
    "![Recursion](recursion.png)"
   ]
  },
  {
   "cell_type": "markdown",
   "id": "d2e3f308-1a86-469c-9a7e-8dad7f94f234",
   "metadata": {},
   "source": [
    "# General Mechanics of Recursion \n",
    "- **Pre**: You can do something before you recurse. In this case, it's the `number +` part.\n",
    "- **Recurse**: Actually calling the function `sum(number-1)`\n",
    "- **Post**: Any type of operation you want to do after returning. The second example below has this, where we have a log / print operation between the recursive line and actually returning the value. ( we do this before BOTH return statements ) "
   ]
  },
  {
   "cell_type": "code",
   "execution_count": 8,
   "id": "d340a1f4-d821-476c-8b1c-8bd248b55d0c",
   "metadata": {},
   "outputs": [
    {
     "name": "stdout",
     "output_type": "stream",
     "text": [
      "curret val: 1\n",
      "curret val: 3\n",
      "curret val: 6\n",
      "6\n"
     ]
    }
   ],
   "source": [
    "def sum(number): \n",
    "    # base case\n",
    "    if (number == 1): \n",
    "        # post \n",
    "        print('curret val: 1') \n",
    "        return 1\n",
    "        \n",
    "    # recursion ( pre + recursion ) \n",
    "    out = number + sum(number-1)\n",
    "    \n",
    "    # post \n",
    "    print('curret val:', out) \n",
    "\n",
    "    return out\n",
    "\n",
    "print(sum(3))"
   ]
  },
  {
   "cell_type": "markdown",
   "id": "823ae484-096b-49d4-83e8-80c5876797e4",
   "metadata": {},
   "source": [
    "# Path Finding Example\n",
    "\n",
    "### Maze Solver \n",
    "- We start with a list of strings that will contain a variety of characters.\n",
    "- The hashes are walls, we also have a start and an end. The goal is to go from Start to End.\n",
    "- This is easy for humans to solve just looking at it, but hard for computers.\n",
    "- Recursion is our friend here, and it's a simply problem using recursion. \n"
   ]
  },
  {
   "cell_type": "code",
   "execution_count": null,
   "id": "0a4e48f2-8ff8-46a1-a908-4cc25a3d6899",
   "metadata": {},
   "outputs": [],
   "source": [
    "[\n",
    "    '#####E#', \n",
    "    '#     #', \n",
    "    '#S#####   \n",
    "]"
   ]
  },
  {
   "cell_type": "markdown",
   "id": "baf4a938-0415-4460-9464-3ef846c8b307",
   "metadata": {},
   "source": [
    "- We are given the coordinates of the start and end.\n",
    "- We need to ask: At any given square, what can we do? We can go up, down, right, left.\n",
    "- This is good until we hit walls or go off the graph. We can also go to a spot we've visited. We don't want to do that. ** We consider these as our base cases **\n",
    "\n",
    "### Base Case: \n",
    "1. It's a wall, we can't go there.\n",
    "2. It's off the map, we can't go there.\n",
    "3. It's the end, we're done recursing.\n",
    "4. We've seen this spot before, we don't want to go back.  **very important**\n",
    "\n",
    "### Recursive Case: \n",
    "1. Go all four directions\n",
    "\n",
    "### Implementation \n",
    "* We don't always want to recurse in the main function, that simply serves as an entrance to where the recursion will be. Thus, we break out the function `walk()`\n",
    "* Further breaking this out, we want to separate our base case from our recursion. Our base case will tell us where we are currently at, our recursive case will be where we want to go next.\n",
    "* Once we define the base case, we shouldn't even need to think about it again\n",
    "* **leetcode tip**: create an array of directions that you reuse to check all directions."
   ]
  },
  {
   "cell_type": "code",
   "execution_count": 2,
   "id": "1b9adc80-ce12-450f-b488-b6a31a1d9b5d",
   "metadata": {},
   "outputs": [
    {
     "name": "stdout",
     "output_type": "stream",
     "text": [
      "[2,1][1,1][1,2][1,3][1,4][1,5][0,5]"
     ]
    }
   ],
   "source": [
    "\n",
    "def walk(maze, wall, currentPoint, end, seen, path): \n",
    "    \"\"\"\n",
    "    :type maze array[][]\n",
    "    :type wall: char\n",
    "    :type end: Point\n",
    "    :type currentPoint: Point\n",
    "    :type seen: array[][]\n",
    "    :type path: Point[]\n",
    "    :rtype: boolean\n",
    "    \"\"\"\n",
    "    # Case: Off the map \n",
    "    if (currentPoint.x < 0 or currentPoint.x >= len(maze[0])) or\\\n",
    "        (currentPoint.y < 0 or currentPoint.x >= len(maze)):\n",
    "        return False \n",
    "    \n",
    "    # Case: Hitting a wall? \n",
    "    if(maze[currentPoint.x][currentPoint.y] == wall): \n",
    "        return False\n",
    "\n",
    "    # Case: At the end?\n",
    "    if(currentPoint.x == end.x and currentPoint.y == end.y): \n",
    "        path.append(end)\n",
    "        return True \n",
    "     \n",
    "    # Case: Been here before? \n",
    "    if (seen[currentPoint.x][currentPoint.y]): \n",
    "        return False\n",
    "    \n",
    "    # pre \n",
    "    seen[currentPoint.x][currentPoint.y]=True\n",
    "    path.append(currentPoint)\n",
    "\n",
    "    # recurse \n",
    "    for i in range(len(directions)): \n",
    "        nextPoint = Point(currentPoint.x + directions[i].x, currentPoint.y + directions[i].y)\n",
    "        if (walk(maze, wall, nextPoint, end, seen, path)): \n",
    "            return True\n",
    "\n",
    "\n",
    "    # post\n",
    "    path.pop()\n",
    "\n",
    "    return False\n",
    "\n",
    "\n",
    "def solveMaze(maze, wall, start, end): \n",
    "    \"\"\"\n",
    "    :type maze: \n",
    "    :type wall: char\n",
    "    :type start: Point\n",
    "    :type end: Point\n",
    "    :rtype: None\n",
    "    \"\"\"\n",
    "    \n",
    "    seen = [[False for i in range(0,6)] for j in range(0,3)]\n",
    "    path = []\n",
    "\n",
    "    walk(maze, wall, start, end, seen, path)\n",
    "    return path\n",
    "\n",
    "class Point(): \n",
    "    def __init__(self, x, y) -> None:\n",
    "        self.x = x \n",
    "        self.y = y\n",
    "    \n",
    "directions = [\n",
    "    Point(-1, 0), \n",
    "    Point(1,0), \n",
    "    Point(0,-1), \n",
    "    Point(0,1)\n",
    "]\n",
    "\n",
    "maze = [['#','#','#','#','#','E'],\\\n",
    "         ['#',' ',' ',' ',' ',' '],\\\n",
    "           ['#','S','#','#','#','#'] ]\n",
    "\n",
    "def printResult(path): \n",
    "    for i in range(len(path)):\n",
    "        print(\"[\", path[i].x, ',', path[i].y,']', sep='', end='')\n",
    "            \n",
    "\n",
    "path = solveMaze(maze, \"#\", Point(2,1), Point(0,5))\n",
    "printResult(path)"
   ]
  },
  {
   "cell_type": "markdown",
   "id": "d535f7c5-ba22-4a9e-86b6-1e2251e5ea72",
   "metadata": {},
   "source": [
    "### Questions: \n",
    "\n",
    "- When do I know to use recursion? When you can't concretely use a for-loop when there is no defined end and there is a branching factor ( can do multiple different ways )\n",
    "- What's the Big O Time for this: We can just solve for a general, specific square. We would multiply each square * 4 for the directions we check, which would be O(4N) -> O(N)"
   ]
  },
  {
   "cell_type": "code",
   "execution_count": null,
   "id": "f02a67e9-319c-4e89-b893-0f719ec0090b",
   "metadata": {},
   "outputs": [],
   "source": []
  }
 ],
 "metadata": {
  "kernelspec": {
   "display_name": "Python 3 (ipykernel)",
   "language": "python",
   "name": "python3"
  },
  "language_info": {
   "codemirror_mode": {
    "name": "ipython",
    "version": 3
   },
   "file_extension": ".py",
   "mimetype": "text/x-python",
   "name": "python",
   "nbconvert_exporter": "python",
   "pygments_lexer": "ipython3",
   "version": "3.12.0"
  }
 },
 "nbformat": 4,
 "nbformat_minor": 5
}
