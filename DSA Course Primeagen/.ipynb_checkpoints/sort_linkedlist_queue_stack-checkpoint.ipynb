{
 "cells": [
  {
   "cell_type": "markdown",
   "id": "afc555a2-c8af-450d-944a-7fd3e1bf5245",
   "metadata": {},
   "source": [
    "# Sort "
   ]
  },
  {
   "cell_type": "markdown",
   "id": "f7c331dc-f09b-4b07-8d6c-f105b9f749c3",
   "metadata": {},
   "source": [
    "## Bubble Sort \n",
    "\n",
    "- General Definition of sorted array Xi <= Xi+1 -> All succeeding values are greater to or equal to previous for the entire array.\n",
    "- For bubble sort, we iterate through the array and take the largest item to the last spot. The next iteration will take the second to largest item to the second to last spot.\n",
    "- This will happen until you iterate through the entire array.\n",
    "- Runtime for this will be O(n^2) even though we are reducing the sorting space by one each iteration.\n",
    "- Technically, it looks like (N+1)*N/2 which is also the sum of numbers in a range.\n",
    "- This is a \"Sort in place\" Algorithm"
   ]
  },
  {
   "cell_type": "code",
   "execution_count": 8,
   "id": "36d77bf9-c021-4b93-96d9-b3d8d9a388ee",
   "metadata": {},
   "outputs": [
    {
     "name": "stdout",
     "output_type": "stream",
     "text": [
      "[1, 2, 3, 4, 5, 6, 7, 9, 11, 12]\n"
     ]
    }
   ],
   "source": [
    "array = [4,5,2,1,3,6,7,9,12,11] \n",
    "\n",
    "def bubbleSort(nums): \n",
    "    for i in range(len(nums)):\n",
    "        for j in range(len(nums)-1-i): \n",
    "            if nums[j] > nums[j+1]: \n",
    "                nums[j], nums[j+1] = nums[j+1], nums[j]\n",
    "    return nums\n",
    "\n",
    "sorted = bubbleSort(array)\n",
    "print(sorted)"
   ]
  },
  {
   "cell_type": "markdown",
   "id": "b69480b6-6104-405a-9bb6-5cf41d4bcf33",
   "metadata": {},
   "source": [
    "## Linked Lists \n",
    "\n",
    "- Arrays are almost not a datastructure... they are so raw...\n",
    "- What sucks about an array? ( Insertion, Deletion, Dynamic Sizing/Growable )\n",
    "- Linked Lists often referred to as \"Node-based data structure\". These nodes are heap-allocated individual objects that point to one another to comprise the structure. \n",
    "\n",
    "### Singly and Doubly linked lists\n",
    "- Singly: you can only move forward -> obj(data, next) \n",
    "- Doubly: you can move backwards and forwards -> obj(data, next, prev)\n",
    "- Pure insertion and deletion at a known position is O(1)\n",
    "- Technically, there is no index in a linked list, we must maintain it.\n",
    "\n",
    "### Complexity \n",
    "- prepend / append (with refs): O(1) \n",
    "- insertion in the middle: O(N)\n",
    "- deletion from ends (with refs): O(1)\n",
    "- deletion in the middle: O(N) \n",
    "- get head / tail (with refs): O(1) \n",
    "- get in general: O(N) "
   ]
  },
  {
   "cell_type": "code",
   "execution_count": null,
   "id": "65468318-10dd-41ed-9dda-de4f4c36c372",
   "metadata": {},
   "outputs": [],
   "source": [
    "# General Implementation API (pseudo code) \n",
    "class LinkedList:\n",
    "    def __init__(self): \n",
    "        self.head = None\n",
    "        self.tail = None \n",
    "        self.length = 0\n",
    "    \n",
    "    def getLength()\n",
    "    def insertAt(item, index) \n",
    "    def remove(item) \n",
    "    def removeAt(index)\n",
    "    def append(item) \n",
    "    def prepend(item) \n",
    "    get(index) \n",
    "\n",
    "class ListNode: \n",
    "    def __init__(self, val): \n",
    "        self.val = val \n",
    "        self.next = None \n",
    "        self.prev = None"
   ]
  },
  {
   "cell_type": "markdown",
   "id": "93dddad7-607d-483f-891d-c527ab548c91",
   "metadata": {},
   "source": [
    "## QUEUE \n",
    "\n",
    "- We're gonna start running into the problem of \"Is this an algorithm or is it a data structure?\"\n",
    "- Ex. Linked Lists: The actual insertion is the algorithmic side of things, where the \"setup\" underneath is the data structure.\n",
    "- Queue is one of the most common data structures, and is implemented over a linked list.\n",
    "- While it is technically a linked list under the hood, what makes it a queue is the specific constraints around how it is to be used. \n",
    "- FIFO Structure \"First in, First out\"\n",
    "- The nice thing about queues is that we are not traversing them. We are simply inserting at the tail or popping at the head. \n",
    "\n",
    "### Setup \n",
    "\n",
    "- Singly Linked list with a head and a tail pointer.\n",
    "- We do not need a doubly linked list here.\n",
    "- Pop: we take the head value, and reassign.\n",
    "- Insert: we put the new value at the end and reassign tail.\n",
    "- Peek: What is my first element without popping it off. (head.value)\n"
   ]
  },
  {
   "cell_type": "code",
   "execution_count": null,
   "id": "7e63a487-f43d-4bac-a664-978b0842ff9f",
   "metadata": {},
   "outputs": [],
   "source": [
    "# General pseudo code / api contract \n",
    "\n",
    "class Queue: \n",
    "    def __init__(self): \n",
    "        self.head = None\n",
    "        self.tail = None\n",
    "        self.length = 0\n",
    "\n",
    "    def enqueue(self, item): \n",
    "        node = ListNode(val)\n",
    "        self.length += 1 \n",
    "        \n",
    "        if tail is None: \n",
    "            self.head = node\n",
    "            self.tail = node \n",
    "\n",
    "        self.tail.next = node\n",
    "        self.tail = node\n",
    "\n",
    "    def deque(self):\n",
    "        if head is None: \n",
    "            return None\n",
    "        \n",
    "        self.length -= 1 \n",
    "        head = self.head\n",
    "        self.head = self.head.next\n",
    "        # if using a language with no garbage collection, we would free the old node here. \n",
    "        return head.val \n",
    "    \n",
    "    def peek(self):\n",
    "        return self.head.val\n",
    "\n",
    "class ListNode: \n",
    "    def __init__(self, val): \n",
    "        self.val = val \n",
    "        self.next = None "
   ]
  }
 ],
 "metadata": {
  "kernelspec": {
   "display_name": "Python 3 (ipykernel)",
   "language": "python",
   "name": "python3"
  },
  "language_info": {
   "codemirror_mode": {
    "name": "ipython",
    "version": 3
   },
   "file_extension": ".py",
   "mimetype": "text/x-python",
   "name": "python",
   "nbconvert_exporter": "python",
   "pygments_lexer": "ipython3",
   "version": "3.12.0"
  }
 },
 "nbformat": 4,
 "nbformat_minor": 5
}
