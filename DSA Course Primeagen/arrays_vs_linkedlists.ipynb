{
 "cells": [
  {
   "cell_type": "markdown",
   "id": "57aa9081-8aec-4bed-a1a7-fe1e45283d6f",
   "metadata": {},
   "source": [
    "# Arrays Vs. Linked Lists\n",
    "\n",
    "## Arrays: The good and bad\n",
    "- Indice access that's direct and fast.\n",
    "- Memory allocation and management pretty straight forward.\n",
    "- O(1) for all operations outside of inserting and deleting when a shift is required. \n",
    "- No real insert, only write. We can only insert by shifting or unshifting values. This is difficult.\n",
    "\n",
    "## Interesting Differences: Arrays / Linked Lists\n",
    "- Memory allocation for an array is optimally allocated up front. If you need a length of a thousand, that's created off the bat.\n",
    "- Memory allocation for Linked Lists is optimized, as you can allocate as you go instead of up front.\n",
    "- The flip side of this is runtime cost: Arrays are already allocated and easily operated on, where Linked LIsts are more intensive purely because you are creating / destroying actual separate objects.\n",
    "\n",
    "## Usability Differences: Arrays / Linked Lists\n",
    "- Linear Search is really your only option for a Linked List, where you can use more optimized methods for Arrays. WE ALWAYS NEED TO WALK THROUGH A LINKED LIST\n",
    "- If you want to be able to scan or search, an Array is much better.\n",
    "- If you want to be able to push or pop from either end ( Queue or Stack ) An Arraylist is better.\n",
    "\n",
    "## Can we have the best of both worlds? -> ArrayList / Dynamic Array\n",
    "- This is essentially where we have an Array as an underlying data structure, but implementing operations that you would use with a node based structure (Linked List)\n",
    "- Theoretically, this will be distinct from an Array because you have operations that allow you to add or delete from it ( on the surface ) where an Array would not allow these types of operations. \n",
    "### Stack-Like\n",
    "- Ex: We can allocate an array of a certain length, then implement push() (adding to end of array) and pop() removing from end of array. Given the array is large enough, these operations will be constant time.\n",
    "- What happens with push when we exceed capacity? We can create a new array, double capacity, and copy over to this. Conversely, it is rare that the Array length will be halved if we pop enough times. \n",
    "- A number of languages will ask for an initial capacity for these, so the size is not completely off base upon creation.\n",
    "### Queue-Like\n",
    "- Enqueue: we can insert at beginning, but we need to shift all values by 1 to accommodate. If hitting size constraint, we reallocate. This gets many people up in arms about adding at the beginning, because this shift will cost O(N). This is why people favor Node-Based structures for Queues.  \n",
    "- Deque: we will also need a shift here, though I'm not sure why... Seems like we should be able to pull off the end.\n",
    "- Generally for deletion from the middle of the list, this will be O(N) because of the shifting.\n",
    "### What's better - ArrayList or Linked List? \n",
    "- Answer should always be: IT DEPENDS!\n",
    "- Interviewers want to hear you explain the difference between the two and why you would use one over the other. Often times, they will care less that you know how to implement something than they will care about your ability to weigh these pros and cons and explain your understanding of why they matter. \n",
    "- Pushing and Popping from the end: Either ArrayList or Linked List could work well.\n",
    "- ArrayList will come with some more convenience with random access (give me [3] )that you won't have with LinkedLIst\n",
    "- ArrayLists will suck if you need to add or remove to/from the front as in a Queue.\n",
    "- Linked Lists will suck if you need to get() from anywhere other than the front or back.\n",
    "\n"
   ]
  },
  {
   "cell_type": "markdown",
   "id": "88fc2d6e-2701-44d7-81e9-b2bbd687ae8f",
   "metadata": {},
   "source": [
    "# Array Buffer / Ring Buffer\n",
    "- Think an Array List, but we are not using 0 as our head and length as our tail.\n",
    "- Instead, we have an index-based head and and index-based tail, where all of our data is in between the two. \n",
    "- This allows us to have O(1) for pushing, popping, enqueueing, dequeing, and access\n",
    "- If we go off of the end of the array, we can modulo the index and have it inserted in the other end, which is all good and fine until we reach the capacity of the array.\n",
    "- These also maintain order similar to a Stack or Queue\n",
    "- The main resize condition is when the index of the tail bumps into the index of the head. To reallocate, you create the new and bigger array, then write the data starting with head at index 0 of the new array.\n",
    "- "
   ]
  },
  {
   "cell_type": "code",
   "execution_count": null,
   "id": "09b36839-f8a3-40cf-afea-26dd37a03393",
   "metadata": {},
   "outputs": [],
   "source": []
  }
 ],
 "metadata": {
  "kernelspec": {
   "display_name": "Python 3 (ipykernel)",
   "language": "python",
   "name": "python3"
  },
  "language_info": {
   "codemirror_mode": {
    "name": "ipython",
    "version": 3
   },
   "file_extension": ".py",
   "mimetype": "text/x-python",
   "name": "python",
   "nbconvert_exporter": "python",
   "pygments_lexer": "ipython3",
   "version": "3.12.0"
  }
 },
 "nbformat": 4,
 "nbformat_minor": 5
}
