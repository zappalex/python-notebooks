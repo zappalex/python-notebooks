{
 "cells": [
  {
   "cell_type": "markdown",
   "id": "4a0516d9-d771-45b5-b33c-1691ca2138c7",
   "metadata": {},
   "source": [
    "# Search  "
   ]
  },
  {
   "cell_type": "markdown",
   "id": "bcca2d99-e84f-4fcf-a695-31d9bf759e00",
   "metadata": {},
   "source": [
    "## Linear Search \n",
    "\n",
    "- Essentially checks each item in an array.\n",
    "- When you are using something like \"indexOf()\" it is often doing this under the hood.\n",
    "- Runtime: O(N)"
   ]
  },
  {
   "cell_type": "code",
   "execution_count": 6,
   "id": "72394b01-1303-4fba-adb8-bb6cbee9ef96",
   "metadata": {},
   "outputs": [
    {
     "name": "stdout",
     "output_type": "stream",
     "text": [
      "False\n"
     ]
    }
   ],
   "source": [
    "array = [1, 4, 6, 10, 2, 12, 56, 3]\n",
    "itemFound = linearSearch(array, 78) \n",
    "print(itemFound)\n",
    "\n",
    "def linearSearch(haystack, needle):\n",
    "    for item in haystack: \n",
    "        if needle == item: \n",
    "            return True\n",
    "    return False \n"
   ]
  },
  {
   "cell_type": "markdown",
   "id": "57ae9012-4b8d-4221-8c56-1d8c4c39fea9",
   "metadata": {},
   "source": [
    "## Binary Search \n",
    "\n",
    "### Theory \n",
    "- An important question you should ALWAYS ask of your data set: Is it ordered?\n",
    "- If it is, you have new advantages you can take with that data.\n",
    "- One approach we can take is to step a certain amount to see if we're in the range of the intended value, say 10% of the data set and then search the full section it's in.\n",
    "- This will result in O(N) but illustrates the philosophy of this method. Practically, it will be better than Linear Search. Theoretically, it will be the same. What we primarily want to avoid here is the scanning. \n",
    "\n",
    "### Algorithm \n",
    "- We can instead jump to the middle, see if the search value is larger or smaller than the found value.\n",
    "- If smaller, we do the same thing for the smaller half of the data set, and vice versa for larger.\n",
    "- We continue to half the data set and compare until we have nothing left to search.\n",
    "- This will give us a runtime of O(logN)\n",
    "- Big O trick: if you are halving each time: O(logN), if you are halving each time and then scanning at some point: O(NlogN)\n",
    "- This is a classic \"off by one\" algorithm.\n",
    "- NOTE: we always think of ranges as start: inclusive, end: exclusive\n",
    "\n",
    "### Pseudo Code \n",
    "- We maintain pointers in the array: low and high\n",
    "- We continue the search until low bumps into high\n",
    "- We need to find the floor of lo + (hi - lo)/2 -> m \n",
    "- We grab the actual value at m and compare to our search value\n",
    "- This gives us three options:\n",
    "1. We find the value: return value \n",
    "2. Value is larger: lo = m + 1\n",
    "3. Value is smaller: hi = m\n",
    "- We exit when lo hits hi "
   ]
  },
  {
   "cell_type": "code",
   "execution_count": 1,
   "id": "a3f819d5-12fa-45e1-a1a9-34c3e34344d7",
   "metadata": {},
   "outputs": [
    {
     "name": "stdout",
     "output_type": "stream",
     "text": [
      "False\n"
     ]
    }
   ],
   "source": [
    "import math\n",
    "\n",
    "array = [1,2,3,4,5,6,7,8,9]\n",
    "\n",
    "def quickSort(needle, haystack):\n",
    "    lo = 0\n",
    "    hi = len(haystack)\n",
    "\n",
    "    while lo < hi:\n",
    "        mid = math.floor(lo + (hi-lo)/2)\n",
    "        val = haystack[mid]\n",
    "\n",
    "        if needle == val:\n",
    "            return True\n",
    "        elif needle > val:\n",
    "            lo = mid + 1\n",
    "        else:\n",
    "            hi = mid\n",
    "\n",
    "    return False\n",
    "\n",
    "foundVal = quickSort(34, array)\n",
    "print(foundVal)\n"
   ]
  },
  {
   "cell_type": "markdown",
   "id": "14e189d0-112a-43cd-bde6-326483f982a3",
   "metadata": {},
   "source": [
    "## Two Crystal Balls Problem \n",
    "\n",
    "Given two crystal balls that will break if dropped form high enough, determinte the exact spot in which they will break in the most optimized way. Another description: You're in a hundred story building with two cristal balls, find which story they will break from. \n",
    "\n",
    "- Essentially, this problem is an \"array of falses\" that eventually turn true.\n",
    "- Theoretically, we could solve this problem by doing a linear \"walk\" through the array. \n",
    "- However, this array can be considered ordered, which means we can use binary search to improve runtime. ( Theoretically ) \n",
    "- If we try binary search, we get to the half way mark, then perhaps a ball breaks, and then we still need to scan the remaining section, which turns out to be O(n) anyway.\n",
    "- What we need to do is be able to jump some portion of N that doesn't require us to then walk some portion of N.\n",
    "- Here, we can jump by sqrt(N) until the ball breaks, and then go back and walk that section, that will be, at most, sqrt(N) in length.\n",
    "\n",
    "Why do we chose the sqrt(N)? Because this is the first opportunity we have to change this to a different running time than O(N). "
   ]
  },
  {
   "cell_type": "code",
   "execution_count": 18,
   "id": "f0321e8a-500e-4fcb-9662-628c77713c39",
   "metadata": {},
   "outputs": [
    {
     "name": "stdout",
     "output_type": "stream",
     "text": [
      "3\n",
      "0\n",
      "3\n"
     ]
    }
   ],
   "source": [
    "import math \n",
    "\n",
    "def twoCrystalBalls(breaksArray): \n",
    "    jumpAmount = math.floor(math.sqrt(len(breaksArray)))\n",
    "    i = jumpAmount\n",
    "    \n",
    "    for idx in range(i, len(breaksArray), jumpAmount):\n",
    "        if (breaksArray[idx]): \n",
    "            break \n",
    "        else: \n",
    "            i += jumpAmount \n",
    "    print(i) \n",
    "\n",
    "    i -= jumpAmount\n",
    "    print(i)\n",
    "\n",
    "    for index in range(i, (i+jumpAmount)+1): \n",
    "        if breaksArray[index]: \n",
    "            return index \n",
    "    return -1 \n",
    "\n",
    "array=[True, True, False, True, True, True, True, True, True, True, True, True, True, True]\n",
    "breakIndex = twoCrystalBalls(array) \n",
    "print(breakIndex) \n"
   ]
  },
  {
   "cell_type": "code",
   "execution_count": null,
   "id": "ee22f396-a11e-4ff7-8b28-e0f67fcf1c3b",
   "metadata": {},
   "outputs": [],
   "source": []
  }
 ],
 "metadata": {
  "kernelspec": {
   "display_name": "Python 3 (ipykernel)",
   "language": "python",
   "name": "python3"
  },
  "language_info": {
   "codemirror_mode": {
    "name": "ipython",
    "version": 3
   },
   "file_extension": ".py",
   "mimetype": "text/x-python",
   "name": "python",
   "nbconvert_exporter": "python",
   "pygments_lexer": "ipython3",
   "version": "3.12.0"
  }
 },
 "nbformat": 4,
 "nbformat_minor": 5
}
